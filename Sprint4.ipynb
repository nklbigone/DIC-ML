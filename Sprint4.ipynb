{
  "nbformat": 4,
  "nbformat_minor": 0,
  "metadata": {
    "colab": {
      "name": "Sprint4.ipynb",
      "provenance": [],
      "authorship_tag": "ABX9TyMGRfEG64nHrWmjgIvq5o2j",
      "include_colab_link": true
    },
    "kernelspec": {
      "name": "python3",
      "display_name": "Python 3"
    },
    "language_info": {
      "name": "python"
    },
    "accelerator": "GPU"
  },
  "cells": [
    {
      "cell_type": "markdown",
      "metadata": {
        "id": "view-in-github",
        "colab_type": "text"
      },
      "source": [
        "<a href=\"https://colab.research.google.com/github/nklbigone/DIC-ML/blob/main/Sprint4.ipynb\" target=\"_parent\"><img src=\"https://colab.research.google.com/assets/colab-badge.svg\" alt=\"Open In Colab\"/></a>"
      ]
    },
    {
      "cell_type": "markdown",
      "metadata": {
        "id": "5yA8MIFKfKgW"
      },
      "source": [
        "## 【problem1】Hypothetical"
      ]
    },
    {
      "cell_type": "code",
      "metadata": {
        "id": "j2Cl4MHaeIck"
      },
      "source": [
        "import numpy as np\n",
        "import matplotlib.pyplot as plt \n",
        "import pandas as pd \n",
        "import seaborn as sns\n",
        "class ScratchLogisticRegression():\n",
        "    \"\"\"\n",
        "    Scratch implementation of logistic regression\n",
        "    Parameters\n",
        "    ----------\n",
        "    num_iter : int\n",
        "      Number of iterations\n",
        "    lr : float\n",
        "      Learning rate\n",
        "    no_bias : bool\n",
        "      True if no bias term is included\n",
        "    verbose : bool\n",
        "      True to output the learning process\n",
        "    Attributes\n",
        "    ----------\n",
        "    self.coef_ : The following form of ndarray, shape (n_features,)\n",
        "      Parameters\n",
        "    self.loss : The following form of ndarray, shape (self.iter,)\n",
        "      Record losses on training data\n",
        "    self.val_loss : The following form of ndarray, shape (self.iter,)\n",
        "      Record loss on validation data\n",
        "    \"\"\"\n",
        "    def __init__(self, num_iter=100, lr=0.01, C=1, random_state=None, bias=False, verbose=False):\n",
        "        # Record hyperparameters as attributes\n",
        "        self.iter = num_iter\n",
        "        self.lr = lr\n",
        "        self.bias = bias\n",
        "        self.verbose = verbose\n",
        "        self.C = C\n",
        "        self.lamda = 1/self.C \n",
        "        self.random_state = random_state\n",
        "\n",
        "        # Prepare an array to record the loss\n",
        "        self.loss = np.zeros(self.iter)\n",
        "        self.val_loss = np.zeros(self.iter)\n",
        "\n",
        "    # problem 1    \n",
        "    def _linear_combination(self, X):\n",
        "        \"\"\"\n",
        "        Compute a linear hypothetical function\n",
        "        Parameters\n",
        "        ----------\n",
        "        X : The following forms of ndarray, shape (n_samples, n_features)\n",
        "        Training data\n",
        "        Returns\n",
        "        -------\n",
        "        The following form of ndarray, shape (n_samples, 1)\n",
        "        Estimated result by linear hypothetical function\n",
        "        \"\"\"\n",
        "        x1 = X\n",
        "\n",
        "        # x0 Create a bias term.\n",
        "        if self.bias:\n",
        "            x0 = np.zeros(x1.shape[0])\n",
        "        else:\n",
        "            x0 = np.ones(x1.shape[0])\n",
        "        return np.concatenate([x0.reshape(-1,1),x1],axis=1)\n",
        "\n",
        "    # problem 1\n",
        "    def _hypothetical_function(self, X):\n",
        "        \"\"\"\n",
        "        Compute the assumed function of a linear.\n",
        "        \n",
        "        Parameters\n",
        "        ----------\n",
        "        X : The following forms of ndarray, shape (n_samples, n_features)\n",
        "            Features of training data\n",
        "        Returns\n",
        "        -------\n",
        "        The following form of ndarray, shape (n_samples, 1)\n",
        "        Estimated result with linear assumed functions.\n",
        "        \"\"\"\n",
        "        x = X \n",
        "        z = np.dot(x,self.theta)\n",
        "        return 1/(1+np.exp(-z))\n",
        "\n",
        "    def _gradient_descent(self, X, error):\n",
        "        \"\"\"\n",
        "        Using the steepest descent method, the value of $\\theta$ is update and learned.\n",
        "        Parameters\n",
        "        ----------\n",
        "        X : The following forms of ndarray, shape (n_samples, n_features)\n",
        "            Features of training data\n",
        "        error: Error between true value and estimated value\n",
        "        \"\"\"\n",
        "        # tmp to add regularization (lamda) to i=1,2,...\n",
        "        self.tmp = np.append(0, np.ones(X.shape[1]-1))\n",
        "        self.theta -= self.lr*(np.dot(error,X) + self.tmp*self.lamda*self.theta)/len(X) \n",
        "\n",
        "    def _loss_function(self, y, yhat):\n",
        "        \"\"\"\n",
        "        Calculate the loss function for logistic regression.\n",
        "        Parameters\n",
        "        ----------\n",
        "        y : The following form of ndarray, shape (n_samples,)\n",
        "            Correct answer value of training data\n",
        "        y : The following form of ndarray, shape (n_samples,)\n",
        "            Correct answer value of validation data\n",
        "        \"\"\"\n",
        "        return np.mean(-y*np.log(yhat) - (1-y)*np.log(1-yhat)) + 0.5*self.lamda*np.mean(self.theta[1:]**2)\n",
        "\n",
        "    def fit(self, X, y, X_val=False, y_val=False):\n",
        "        \"\"\"\n",
        "        Learn logistic regression. If validation data is entered, the loss and accuracy for it are also calculated for each iteration.\n",
        "        Parameters\n",
        "        ----------\n",
        "        X : The following forms of ndarray, shape (n_samples, n_features)\n",
        "            Features of training data\n",
        "        y : The following form of ndarray, shape (n_samples,)\n",
        "            Correct answer value of training data\n",
        "        X_val : The following forms of ndarray, shape (n_samples, n_features)\n",
        "            Features of verification data\n",
        "        y_val : The following form of ndarray, shape (n_samples,)\n",
        "            Correct value of verification data\n",
        "        \"\"\"\n",
        "        # Get the label value of y\n",
        "        self.ylabel = np.unique(y)\n",
        "\n",
        "        # Replace the label value of y with 0, 1\n",
        "        y = np.where(y==self.ylabel[0],0,1)\n",
        "\n",
        "        if (type(y_val) != bool):\n",
        "            y_val = np.where(y_val==self.ylabel[0],0,1)\n",
        "\n",
        "        # Linear combination\n",
        "        X = self._linear_combination(X)\n",
        "\n",
        "        # Given the initial value of parameter theta as a random number.\n",
        "        np.random.seed(self.random_state)\n",
        "        self.theta = np.random.rand(X.shape[1])\n",
        "\n",
        "        for i in range(self.iter):\n",
        "            # Predicted probability\n",
        "            yhat = self._hypothetical_function(X)\n",
        "\n",
        "            # measure error\n",
        "            error = yhat-y\n",
        "            self.loss[i] = self._loss_function(y,yhat)\n",
        "\n",
        "            if (type(X_val) != bool):\n",
        "                val_X = self._linear_combination(X_val)\n",
        "                val_yhat = self._hypothetical_function(val_X)\n",
        "\n",
        "                self.val_loss[i] = self._loss_function(y_val, val_yhat)\n",
        "\n",
        "            self._gradient_descent(X, error)\n",
        "        \n",
        "            # Output the learning process when verbos is set to true\n",
        "            if self.verbose:\n",
        "                print('n_iter: ',i,', ',\n",
        "                      'loss: ', self.loss[i],', ',\n",
        "                      'theta: ', self.theta)\n",
        "        # save theta\n",
        "        np.save('theta', self.theta)\n",
        "\n",
        "    def predict(self, X):\n",
        "        \"\"\"\n",
        "        Estimate the label using logistic regression.\n",
        "        Parameters\n",
        "        ----------\n",
        "        X : The following forms of ndarray, shape (n_samples, n_features)\n",
        "            sample\n",
        "        Returns\n",
        "        -------\n",
        "            The following form of ndarray, shape (n_samples, 1)\n",
        "            Estimated result by logistic regression\n",
        "        \"\"\"\n",
        "        X = self._linear_combination(X)\n",
        "        yhat = self._hypothetical_function(X)\n",
        "\n",
        "        return np.where(yhat<0.5, self.ylabel[0],self.ylabel[1])\n",
        "    def predict_proba(self, X):\n",
        "        \"\"\"\n",
        "        Estimate the probability using logistic regression.\n",
        "        Parameters\n",
        "        ----------\n",
        "        X : The following forms of ndarray, shape (n_samples, n_features)\n",
        "            sample\n",
        "        Returns\n",
        "        -------\n",
        "            The following form of ndarray, shape (n_samples, 1)\n",
        "            Estimated result by logistic regression\n",
        "        \"\"\"\n",
        "        X = self._linear_combination(X)\n",
        "        return self._hypothetical_function(X)"
      ],
      "execution_count": 3,
      "outputs": []
    },
    {
      "cell_type": "code",
      "metadata": {
        "id": "ivRpO8azePPO"
      },
      "source": [
        "def scratch_train_test_split(X, y, train_size=0.8):\n",
        "    \"\"\"Divide the validation data.\n",
        "    Parameters\n",
        "    ----------\n",
        "    X : ndarray\n",
        "      Training data (n_samples, n_features)\n",
        "    y : ndarray\n",
        "      Correct answer value (n_samples,)\n",
        "    train_size : float\n",
        "      Specify what percentage to use as a train (0 < train_size < 1)\n",
        "    Returns\n",
        "    -------\n",
        "    X_train : ndarray\n",
        "      Training data (n_samples, n_features)\n",
        "    X_test : ndarray\n",
        "      Validation data (n_samples, n_features)\n",
        "    y_train : ndarray\n",
        "      Correct answer value of training data (n_samples,)\n",
        "    y_test : ndarray\n",
        "      Correct value of verification data (n_samples,)\n",
        "    \"\"\"\n",
        "    # Write code here\n",
        "    if train_size<=0 or train_size >= 1:\n",
        "         raise ValueError('train_size={0} should be a float in the '\n",
        "                         '(0, 1) range'.format(train_size))\n",
        "    train_size = int(train_size*X.shape[0])\n",
        "    idx = np.arange(X.shape[0])\n",
        "    np.random.shuffle(idx)\n",
        "    X = X[idx]\n",
        "    y = y[idx]\n",
        "    split = np.split(X, [train_size])\n",
        "    X_train = split[0]\n",
        "    X_test = split[1]\n",
        "    split = np.split(y, [train_size])\n",
        "    y_train = split[0]\n",
        "    y_test = split[1]\n",
        "    return X_train, X_test, y_train, y_test"
      ],
      "execution_count": 4,
      "outputs": []
    },
    {
      "cell_type": "markdown",
      "metadata": {
        "id": "uv4qMitlhoMy"
      },
      "source": [
        "The assumed function for logistic regression is the assumed function for linear regression passed through the Sigmoid function. The sigmoid function is represented by the following equation\n",
        "\n",
        "$g(z)=\\frac{1}{1+e} \\cdot-z$\n",
        "\n",
        "The linear regression hypothesis function was:\n",
        "\n",
        "$h_{\\theta}(x)=\\theta^{T} \\cdot x$\n",
        "\n",
        "Put together, the logistic regression assumption function is\n",
        "\n",
        "$h_{\\theta}(x)=\\frac{1}{1+e^{-} \\cdot \\theta^{T} \\cdot x}$\n",
        "\n",
        "$x$: Feature vector\n",
        "\n",
        "$\\theta$: Parameter (weight) vector"
      ]
    },
    {
      "cell_type": "code",
      "metadata": {
        "colab": {
          "base_uri": "https://localhost:8080/"
        },
        "id": "1qyYNUJRhuzF",
        "outputId": "160e96cb-b261-47f4-a638-170e634509dd"
      },
      "source": [
        "x1 = np.arange(1,11,1).reshape(-1,1)\n",
        "x0 = np.ones(x1.shape[0])\n",
        "x = np.concatenate([x0.reshape(-1,1),x1], axis=1)\n",
        "print('x: \\n',x)"
      ],
      "execution_count": 7,
      "outputs": [
        {
          "output_type": "stream",
          "text": [
            "x: \n",
            " [[ 1.  1.]\n",
            " [ 1.  2.]\n",
            " [ 1.  3.]\n",
            " [ 1.  4.]\n",
            " [ 1.  5.]\n",
            " [ 1.  6.]\n",
            " [ 1.  7.]\n",
            " [ 1.  8.]\n",
            " [ 1.  9.]\n",
            " [ 1. 10.]]\n"
          ],
          "name": "stdout"
        }
      ]
    },
    {
      "cell_type": "code",
      "metadata": {
        "colab": {
          "base_uri": "https://localhost:8080/"
        },
        "id": "igTWvGmOiZgn",
        "outputId": "ee585219-1b41-42d6-f0bf-19e0424331c9"
      },
      "source": [
        "theta = np.random.randn(x.shape[1])\n",
        "print('theta:\\n', theta)"
      ],
      "execution_count": 8,
      "outputs": [
        {
          "output_type": "stream",
          "text": [
            "theta:\n",
            " [ 2.67325047 -0.07385387]\n"
          ],
          "name": "stdout"
        }
      ]
    },
    {
      "cell_type": "code",
      "metadata": {
        "colab": {
          "base_uri": "https://localhost:8080/"
        },
        "id": "_qDYKP_4i_bN",
        "outputId": "e110532c-ff86-45d5-cc96-288c1ed027d4"
      },
      "source": [
        "z = np.dot(x,theta)\n",
        "print('z:\\n',z)"
      ],
      "execution_count": 9,
      "outputs": [
        {
          "output_type": "stream",
          "text": [
            "z:\n",
            " [2.5993966  2.52554273 2.45168886 2.37783498 2.30398111 2.23012724\n",
            " 2.15627337 2.0824195  2.00856563 1.93471176]\n"
          ],
          "name": "stdout"
        }
      ]
    },
    {
      "cell_type": "code",
      "metadata": {
        "colab": {
          "base_uri": "https://localhost:8080/"
        },
        "id": "k-ctCBwIjGS7",
        "outputId": "e2cdc837-3035-4429-8721-c5fe931b516a"
      },
      "source": [
        "y = 1/(1+np.exp(-z))\n",
        "print('y:\\n',y)"
      ],
      "execution_count": 10,
      "outputs": [
        {
          "output_type": "stream",
          "text": [
            "y:\n",
            " [0.93082274 0.92591317 0.92068487 0.91512142 0.90920622 0.90292251\n",
            " 0.89625355 0.88918267 0.88169348 0.87377002]\n"
          ],
          "name": "stdout"
        }
      ]
    },
    {
      "cell_type": "code",
      "metadata": {
        "id": "U7avgo5WjVdw"
      },
      "source": [
        "z1 = np.arange(-50,50,0.1)\n",
        "y1 = 1/(1+np.exp(-z1))"
      ],
      "execution_count": 11,
      "outputs": []
    },
    {
      "cell_type": "code",
      "metadata": {
        "colab": {
          "base_uri": "https://localhost:8080/",
          "height": 282
        },
        "id": "cprBc--Jjb-z",
        "outputId": "0cdf9456-9cc6-4836-db0d-00b7c8e2cdd4"
      },
      "source": [
        "plt.scatter(z1,y1)\n",
        "plt.plot()"
      ],
      "execution_count": 12,
      "outputs": [
        {
          "output_type": "execute_result",
          "data": {
            "text/plain": [
              "[]"
            ]
          },
          "metadata": {
            "tags": []
          },
          "execution_count": 12
        },
        {
          "output_type": "display_data",
          "data": {
            "image/png": "[encoded data removed]",
            "text/plain": [
              "<Figure size 432x288 with 1 Axes>"
            ]
          },
          "metadata": {
            "tags": [],
            "needs_background": "light"
          }
        }
      ]
    },
    {
      "cell_type": "markdown",
      "metadata": {
        "id": "2SMIBU3bkLS9"
      },
      "source": [
        "## 【problem2】Steepest descent"
      ]
    },
    {
      "cell_type": "code",
      "metadata": {
        "colab": {
          "base_uri": "https://localhost:8080/"
        },
        "id": "VCH5WuHSkO89",
        "outputId": "994da2cd-ac47-4f51-d790-b993be7c25c0"
      },
      "source": [
        "x1 = np.array([2,1,5,6,4]).reshape(-1,1)\n",
        "x0 = np.ones(x1.shape[0])\n",
        "x = np.concatenate([x0.reshape(-1,1),x1],axis=1)\n",
        "\n",
        "y = np.array([0.4,0.5,0.2,0.1,0.9])\n",
        "yhat = np.where(y<0.5,0,1)\n",
        "y_test = np.array([1,1,0,0,1])\n",
        "print('x:\\n',x)\n",
        "print('y:\\n',y)\n",
        "print('yhat:\\n',yhat)\n",
        "print('ytest:\\n',y_test)"
      ],
      "execution_count": 13,
      "outputs": [
        {
          "output_type": "stream",
          "text": [
            "x:\n",
            " [[1. 2.]\n",
            " [1. 1.]\n",
            " [1. 5.]\n",
            " [1. 6.]\n",
            " [1. 4.]]\n",
            "y:\n",
            " [0.4 0.5 0.2 0.1 0.9]\n",
            "yhat:\n",
            " [0 1 0 0 1]\n",
            "ytest:\n",
            " [1 1 0 0 1]\n"
          ],
          "name": "stdout"
        }
      ]
    },
    {
      "cell_type": "code",
      "metadata": {
        "colab": {
          "base_uri": "https://localhost:8080/"
        },
        "id": "pMTpquLkkViX",
        "outputId": "951a62c9-9501-423a-e49c-677f7715d2c8"
      },
      "source": [
        "theta = np.random.randn(x.shape[1])\n",
        "print('theta:\\n',theta)"
      ],
      "execution_count": 14,
      "outputs": [
        {
          "output_type": "stream",
          "text": [
            "theta:\n",
            " [-0.50892381  0.44736885]\n"
          ],
          "name": "stdout"
        }
      ]
    },
    {
      "cell_type": "code",
      "metadata": {
        "colab": {
          "base_uri": "https://localhost:8080/"
        },
        "id": "fQ7SJlS2k-Qc",
        "outputId": "690a4147-2d42-495c-d8e9-6aedaa994bdd"
      },
      "source": [
        "error = yhat - y_test \n",
        "print('error:\\n',error)"
      ],
      "execution_count": 15,
      "outputs": [
        {
          "output_type": "stream",
          "text": [
            "error:\n",
            " [-1  0  0  0  0]\n"
          ],
          "name": "stdout"
        }
      ]
    },
    {
      "cell_type": "code",
      "metadata": {
        "colab": {
          "base_uri": "https://localhost:8080/"
        },
        "id": "WqZdjpMzlEEC",
        "outputId": "0b8b0251-8694-426b-ba41-d23c17f0ac15"
      },
      "source": [
        "lm = np.array([0,1])\n",
        "theta*lm"
      ],
      "execution_count": 16,
      "outputs": [
        {
          "output_type": "execute_result",
          "data": {
            "text/plain": [
              "array([-0.        ,  0.44736885])"
            ]
          },
          "metadata": {
            "tags": []
          },
          "execution_count": 16
        }
      ]
    },
    {
      "cell_type": "code",
      "metadata": {
        "colab": {
          "base_uri": "https://localhost:8080/"
        },
        "id": "G-asS5yalMbY",
        "outputId": "7a57f162-8a9e-45d6-d73b-5cbafa8307d0"
      },
      "source": [
        "0.01*np.dot(error,x)/len(x) + theta*lm/len(x)"
      ],
      "execution_count": 17,
      "outputs": [
        {
          "output_type": "execute_result",
          "data": {
            "text/plain": [
              "array([-0.002     ,  0.08547377])"
            ]
          },
          "metadata": {
            "tags": []
          },
          "execution_count": 17
        }
      ]
    },
    {
      "cell_type": "code",
      "metadata": {
        "colab": {
          "base_uri": "https://localhost:8080/"
        },
        "id": "AmYWO6HllTk1",
        "outputId": "8b7595d8-3d39-4256-d71c-199b7fce490d"
      },
      "source": [
        "theta -= (0.01*np.dot(error,x)/len(x) + theta*lm/len(x))\n",
        "print('theta:\\n',theta)"
      ],
      "execution_count": 18,
      "outputs": [
        {
          "output_type": "stream",
          "text": [
            "theta:\n",
            " [-0.50692381  0.36189508]\n"
          ],
          "name": "stdout"
        }
      ]
    },
    {
      "cell_type": "code",
      "metadata": {
        "colab": {
          "base_uri": "https://localhost:8080/"
        },
        "id": "UDhOUCCJljo3",
        "outputId": "899870c8-264e-402f-8ddb-403b4a733e90"
      },
      "source": [
        "theta -= (0.01*np.mean(np.dot(error,x)) + theta*lm/len(x))\n",
        "print('theta:\\n',theta)"
      ],
      "execution_count": 19,
      "outputs": [
        {
          "output_type": "stream",
          "text": [
            "theta:\n",
            " [-0.49192381  0.30451607]\n"
          ],
          "name": "stdout"
        }
      ]
    },
    {
      "cell_type": "markdown",
      "metadata": {
        "id": "p-XFrNxvlvVC"
      },
      "source": [
        "## 【problem 3】Estimated"
      ]
    },
    {
      "cell_type": "code",
      "metadata": {
        "colab": {
          "base_uri": "https://localhost:8080/"
        },
        "id": "d-qosvLOlzKA",
        "outputId": "6f0cf747-e4e9-4824-9765-be1b258e8084"
      },
      "source": [
        "x1 = np.array([2,1,5,6,4]).reshape(-1,1)\n",
        "x2 = np.array([2,1,5,1,4]).reshape(-1,1)\n",
        "y = np.array([1,0,0,0,1])\n",
        "print('x1:\\n',x1)\n",
        "print('x2:\\n',x2)\n",
        "print('y:\\n',y)"
      ],
      "execution_count": 20,
      "outputs": [
        {
          "output_type": "stream",
          "text": [
            "x1:\n",
            " [[2]\n",
            " [1]\n",
            " [5]\n",
            " [6]\n",
            " [4]]\n",
            "x2:\n",
            " [[2]\n",
            " [1]\n",
            " [5]\n",
            " [1]\n",
            " [4]]\n",
            "y:\n",
            " [1 0 0 0 1]\n"
          ],
          "name": "stdout"
        }
      ]
    },
    {
      "cell_type": "code",
      "metadata": {
        "id": "YfN7IYkNl8ET"
      },
      "source": [
        "clf = ScratchLogisticRegression()\n",
        "clf.fit(x1,y,x1,y)\n",
        "\n",
        "y_proba = clf.predict_proba(x2)\n",
        "y_pred = clf.predict(x2)"
      ],
      "execution_count": 21,
      "outputs": []
    },
    {
      "cell_type": "code",
      "metadata": {
        "colab": {
          "base_uri": "https://localhost:8080/"
        },
        "id": "Fn9kyhHIl-xB",
        "outputId": "2725fc61-a3db-48d6-ca9b-f65bce2cfe9e"
      },
      "source": [
        "print('y_proba:\\n',y_proba)\n",
        "print('y_pred:\\n',y_pred)"
      ],
      "execution_count": 22,
      "outputs": [
        {
          "output_type": "stream",
          "text": [
            "y_proba:\n",
            " [0.52151279 0.58858846 0.32519861 0.58858846 0.38747144]\n",
            "y_pred:\n",
            " [1 1 0 1 0]\n"
          ],
          "name": "stdout"
        }
      ]
    },
    {
      "cell_type": "markdown",
      "metadata": {
        "id": "zSASXLvimJHp"
      },
      "source": [
        "## [Problem 4] Objective function"
      ]
    },
    {
      "cell_type": "code",
      "metadata": {
        "colab": {
          "base_uri": "https://localhost:8080/",
          "height": 500
        },
        "id": "G7ISc1FtmL1A",
        "outputId": "84747bcb-8b08-42a6-806e-b99d54dc9a53"
      },
      "source": [
        "# Check data creation\n",
        "y1 = np.ones(99)\n",
        "y2 = np.zeros(99)\n",
        "yh = np.arange(0.01,1.0,0.01)\n",
        "\n",
        "# Try to imagine the objective function J with check data.\n",
        "J1 = -y1*np.log(yh)-(1-y1)*np.log(1-yh)\n",
        "J2 = -y2*np.log(yh)-(1-y2)*np.log(1-yh)\n",
        "J = -y1*np.log(yh)-(1-y2)*np.log(1-yh)\n",
        "\n",
        "# Plotting the Learning Curve\n",
        "fig,ax = plt.subplots(figsize=(8,8))\n",
        "\n",
        "plt.rcParams[\"font.size\"] = 20\n",
        "plt.scatter(yh,J1,label=' when it is y = 1')\n",
        "plt.scatter(yh,J2,label=' when it is y = 0')\n",
        "plt.scatter(yh,J,label='LOSS')\n",
        "plt.legend()"
      ],
      "execution_count": 23,
      "outputs": [
        {
          "output_type": "execute_result",
          "data": {
            "text/plain": [
              "<matplotlib.legend.Legend at 0x7f8ce0b7d890>"
            ]
          },
          "metadata": {
            "tags": []
          },
          "execution_count": 23
        },
        {
          "output_type": "display_data",
          "data": {
            "image/png": "[encoded data removed]",
            "text/plain": [
              "<Figure size 576x576 with 1 Axes>"
            ]
          },
          "metadata": {
            "tags": [],
            "needs_background": "light"
          }
        }
      ]
    },
    {
      "cell_type": "markdown",
      "metadata": {
        "id": "CZO3d8vgmaj2"
      },
      "source": [
        "## [Problem 5] Learning and estimation"
      ]
    },
    {
      "cell_type": "code",
      "metadata": {
        "id": "_xa1plLsmdMl"
      },
      "source": [
        "from sklearn.datasets import load_iris\n",
        "data = load_iris().data \n",
        "target = load_iris().target.reshape(-1,1)"
      ],
      "execution_count": 25,
      "outputs": []
    },
    {
      "cell_type": "code",
      "metadata": {
        "colab": {
          "base_uri": "https://localhost:8080/"
        },
        "id": "MIQEoqvZmmUx",
        "outputId": "79fcac79-fb64-4e30-ba7f-4e2a595c15e4"
      },
      "source": [
        "iris = np.concatenate([data, target], axis=1)\n",
        "iris = pd.DataFrame(iris)\n",
        "iris.shape"
      ],
      "execution_count": 26,
      "outputs": [
        {
          "output_type": "execute_result",
          "data": {
            "text/plain": [
              "(150, 5)"
            ]
          },
          "metadata": {
            "tags": []
          },
          "execution_count": 26
        }
      ]
    },
    {
      "cell_type": "code",
      "metadata": {
        "id": "MsizNtl3mtZv"
      },
      "source": [
        "disp = False \n",
        "if disp == True:\n",
        "    sns.partplot(iris, palete='tab10');"
      ],
      "execution_count": 27,
      "outputs": []
    },
    {
      "cell_type": "code",
      "metadata": {
        "colab": {
          "base_uri": "https://localhost:8080/"
        },
        "id": "KPZClwk3myCB",
        "outputId": "8593b7fe-1dd7-4b39-a91b-503302e857ae"
      },
      "source": [
        "iris_X = iris.loc[iris[4]!=0,2:3].values \n",
        "iris_y = iris.loc[iris[4]!=0,4].values\n",
        "print('iris_X.shape: ', iris_X.shape)\n",
        "print('iris_y.shape: ', iris_y.shape)"
      ],
      "execution_count": 28,
      "outputs": [
        {
          "output_type": "stream",
          "text": [
            "iris_X.shape:  (100, 2)\n",
            "iris_y.shape:  (100,)\n"
          ],
          "name": "stdout"
        }
      ]
    },
    {
      "cell_type": "code",
      "metadata": {
        "colab": {
          "base_uri": "https://localhost:8080/"
        },
        "id": "YbCWBQCFm27_",
        "outputId": "9ab56cfe-f640-4bce-c63f-c676ba85eb23"
      },
      "source": [
        "# Train and estimate on Iris dataset\n",
        "from sklearn.model_selection import train_test_split\n",
        "X = iris_X\n",
        "y = iris_y\n",
        "\n",
        "X_train, X_valid, y_train, y_valid = scratch_train_test_split(X, y)\n",
        "\n",
        "print('X_train.shape: ',X_train.shape)\n",
        "print('y_train.shape: ',y_train.shape)\n",
        "print('X_valid.shape: ',X_valid.shape)\n",
        "print('y_valid.shape: ',y_valid.shape)"
      ],
      "execution_count": 29,
      "outputs": [
        {
          "output_type": "stream",
          "text": [
            "X_train.shape:  (80, 2)\n",
            "y_train.shape:  (80,)\n",
            "X_valid.shape:  (20, 2)\n",
            "y_valid.shape:  (20,)\n"
          ],
          "name": "stdout"
        }
      ]
    },
    {
      "cell_type": "code",
      "metadata": {
        "colab": {
          "base_uri": "https://localhost:8080/"
        },
        "id": "v9GHaRTSm9Pg",
        "outputId": "e677c7aa-8914-47ef-9e8e-d092ffadabf8"
      },
      "source": [
        "# Train and estimate on Iris dataset\n",
        "from sklearn.model_selection import train_test_split\n",
        "X = iris_X\n",
        "y = iris_y\n",
        "\n",
        "X_train, X_valid, y_train, y_valid = scratch_train_test_split(X, y)\n",
        "\n",
        "print('X_train.shape: ',X_train.shape)\n",
        "print('y_train.shape: ',y_train.shape)\n",
        "print('X_valid.shape: ',X_valid.shape)\n",
        "print('y_valid.shape: ',y_valid.shape)"
      ],
      "execution_count": 30,
      "outputs": [
        {
          "output_type": "stream",
          "text": [
            "X_train.shape:  (80, 2)\n",
            "y_train.shape:  (80,)\n",
            "X_valid.shape:  (20, 2)\n",
            "y_valid.shape:  (20,)\n"
          ],
          "name": "stdout"
        }
      ]
    },
    {
      "cell_type": "code",
      "metadata": {
        "colab": {
          "base_uri": "https://localhost:8080/"
        },
        "id": "YVsbStNOnEaL",
        "outputId": "c10f00f1-4de5-4474-dad2-8e58e5f75635"
      },
      "source": [
        "# Unique value of y\n",
        "np.unique(y)"
      ],
      "execution_count": 31,
      "outputs": [
        {
          "output_type": "execute_result",
          "data": {
            "text/plain": [
              "array([1., 2.])"
            ]
          },
          "metadata": {
            "tags": []
          },
          "execution_count": 31
        }
      ]
    },
    {
      "cell_type": "code",
      "metadata": {
        "id": "5QCHYbTanJW3"
      },
      "source": [
        "# standardization\n",
        "from sklearn.preprocessing import StandardScaler\n",
        "\n",
        "scaler = StandardScaler()\n",
        "scaler.fit(X_train)\n",
        "X_train_std = scaler.transform(X_train)\n",
        "X_valid_std = scaler.transform(X_valid)"
      ],
      "execution_count": 32,
      "outputs": []
    },
    {
      "cell_type": "code",
      "metadata": {
        "id": "UmHop3fNnOWV"
      },
      "source": [
        "clf = ScratchLogisticRegression(num_iter=500, lr=0.01, C=0.01, verbose=False)\n",
        "clf.fit(X_train_std,y_train,X_valid_std,y_valid)\n",
        "\n",
        "y_pred = clf.predict(X_valid_std)\n",
        "y_prob = clf.predict_proba(X_valid_std)"
      ],
      "execution_count": 33,
      "outputs": []
    },
    {
      "cell_type": "code",
      "metadata": {
        "colab": {
          "base_uri": "https://localhost:8080/"
        },
        "id": "01oPlTjRnUbn",
        "outputId": "7308903b-5b03-4a38-af24-37001a11b13a"
      },
      "source": [
        "y_valid"
      ],
      "execution_count": 34,
      "outputs": [
        {
          "output_type": "execute_result",
          "data": {
            "text/plain": [
              "array([2., 2., 2., 2., 2., 2., 1., 1., 2., 2., 2., 2., 2., 2., 1., 2., 1.,\n",
              "       2., 1., 1.])"
            ]
          },
          "metadata": {
            "tags": []
          },
          "execution_count": 34
        }
      ]
    },
    {
      "cell_type": "code",
      "metadata": {
        "colab": {
          "base_uri": "https://localhost:8080/"
        },
        "id": "KRaybeqfnhSo",
        "outputId": "3e62e476-416a-49a6-9d8f-cd9a74374bbf"
      },
      "source": [
        "y_pred"
      ],
      "execution_count": 35,
      "outputs": [
        {
          "output_type": "execute_result",
          "data": {
            "text/plain": [
              "array([2., 2., 2., 2., 2., 2., 1., 1., 2., 2., 2., 2., 2., 2., 1., 2., 1.,\n",
              "       2., 2., 1.])"
            ]
          },
          "metadata": {
            "tags": []
          },
          "execution_count": 35
        }
      ]
    },
    {
      "cell_type": "code",
      "metadata": {
        "colab": {
          "base_uri": "https://localhost:8080/"
        },
        "id": "xw0ocm7xnn4z",
        "outputId": "731b21fd-454f-430c-8ebc-98bd4b67321f"
      },
      "source": [
        "# Evaluation index\n",
        "from sklearn.metrics import accuracy_score\n",
        "from sklearn.metrics import precision_score\n",
        "from sklearn.metrics import recall_score\n",
        "from sklearn.metrics import f1_score\n",
        "\n",
        "accuracy = accuracy_score(y_valid, y_pred)\n",
        "precision = precision_score(y_valid, y_pred)\n",
        "recall = recall_score(y_valid, y_pred)\n",
        "f1 = f1_score(y_valid, y_pred)\n",
        "\n",
        "print(\"accuracy: \", accuracy)\n",
        "print(\"precision: \", precision)\n",
        "print(\"recall: \", recall)\n",
        "print(\"f1: \", f1)"
      ],
      "execution_count": 36,
      "outputs": [
        {
          "output_type": "stream",
          "text": [
            "accuracy:  0.95\n",
            "precision:  1.0\n",
            "recall:  0.8333333333333334\n",
            "f1:  0.9090909090909091\n"
          ],
          "name": "stdout"
        }
      ]
    },
    {
      "cell_type": "code",
      "metadata": {
        "id": "n5KuTeYEoNHw"
      },
      "source": [
        "from sklearn.linear_model import LogisticRegression\n",
        "\n",
        "clf2 = LogisticRegression()\n",
        "\n",
        "clf2.fit(X_train_std,y_train)\n",
        "\n",
        "y_pred2 = clf2.predict(X_valid_std)\n",
        "y_prob2 = clf2.predict_proba(X_valid_std)[:,1]"
      ],
      "execution_count": 37,
      "outputs": []
    },
    {
      "cell_type": "code",
      "metadata": {
        "colab": {
          "base_uri": "https://localhost:8080/"
        },
        "id": "3DwY_0aVoSR_",
        "outputId": "cab5992e-c4da-4a08-a9f5-de69d863b41f"
      },
      "source": [
        "y_pred2"
      ],
      "execution_count": 38,
      "outputs": [
        {
          "output_type": "execute_result",
          "data": {
            "text/plain": [
              "array([2., 2., 2., 2., 2., 2., 1., 1., 2., 2., 2., 2., 2., 2., 1., 2., 1.,\n",
              "       2., 2., 1.])"
            ]
          },
          "metadata": {
            "tags": []
          },
          "execution_count": 38
        }
      ]
    },
    {
      "cell_type": "code",
      "metadata": {
        "colab": {
          "base_uri": "https://localhost:8080/"
        },
        "id": "qqEKs4gYo2BI",
        "outputId": "d8431b3c-d6ec-4c6d-8cf3-45c6815e7345"
      },
      "source": [
        "y_prob2"
      ],
      "execution_count": 39,
      "outputs": [
        {
          "output_type": "execute_result",
          "data": {
            "text/plain": [
              "array([0.96425809, 0.76273286, 0.80699501, 0.8446815 , 0.99759464,\n",
              "       0.99739603, 0.14495315, 0.00216014, 0.89217897, 0.87323281,\n",
              "       0.99525096, 0.91289942, 0.99911244, 0.99199215, 0.0117996 ,\n",
              "       0.61268593, 0.14827013, 0.99525096, 0.61268593, 0.03059532])"
            ]
          },
          "metadata": {
            "tags": []
          },
          "execution_count": 39
        }
      ]
    },
    {
      "cell_type": "code",
      "metadata": {
        "colab": {
          "base_uri": "https://localhost:8080/"
        },
        "id": "DqqLvbTzo_Ba",
        "outputId": "5f12b253-95c2-41c0-a04e-3b4cbca6371c"
      },
      "source": [
        "accuracy = accuracy_score(y_valid, y_pred2)\n",
        "precision = precision_score(y_valid, y_pred2)\n",
        "recall = recall_score(y_valid, y_pred2)\n",
        "f1 = f1_score(y_valid, y_pred2)\n",
        "\n",
        "print(\"accuracy: \", accuracy)\n",
        "print(\"precision: \", precision)\n",
        "print(\"recall: \", recall)\n",
        "print(\"f1: \", f1)"
      ],
      "execution_count": 40,
      "outputs": [
        {
          "output_type": "stream",
          "text": [
            "accuracy:  0.95\n",
            "precision:  1.0\n",
            "recall:  0.8333333333333334\n",
            "f1:  0.9090909090909091\n"
          ],
          "name": "stdout"
        }
      ]
    },
    {
      "cell_type": "markdown",
      "metadata": {
        "id": "W2u3nfoNpMPu"
      },
      "source": [
        "## [Problem 6] Plot of learning curve"
      ]
    },
    {
      "cell_type": "code",
      "metadata": {
        "colab": {
          "base_uri": "https://localhost:8080/",
          "height": 563
        },
        "id": "FucHLabKpQSO",
        "outputId": "283b0226-a6e7-4bd6-ca83-a78fc4e5789e"
      },
      "source": [
        "# Plotting the Learning Curve\n",
        "fig, ax = plt.subplots(figsize=(16,9))\n",
        "\n",
        "plt.rcParams[\"font.size\"] = 20\n",
        "plt.scatter(range(len(clf.loss)), clf.loss, label=\"TRAIN\")\n",
        "plt.scatter(range(len(clf.val_loss)), clf.val_loss, label=\"VALID\")\n",
        "plt.legend()\n",
        "plt.plot()"
      ],
      "execution_count": 41,
      "outputs": [
        {
          "output_type": "execute_result",
          "data": {
            "text/plain": [
              "[]"
            ]
          },
          "metadata": {
            "tags": []
          },
          "execution_count": 41
        },
        {
          "output_type": "display_data",
          "data": {
            "image/png": "[encoded data removed]",
            "text/plain": [
              "<Figure size 1152x648 with 1 Axes>"
            ]
          },
          "metadata": {
            "tags": [],
            "needs_background": "light"
          }
        }
      ]
    },
    {
      "cell_type": "markdown",
      "metadata": {
        "id": "Qsm3U-8HpcNQ"
      },
      "source": [
        "## [Problem 7] Visualization of decision area"
      ]
    },
    {
      "cell_type": "code",
      "metadata": {
        "id": "krbp9f7ipeih"
      },
      "source": [
        "from matplotlib.colors import ListedColormap\n",
        "import matplotlib.patches as mpatches\n",
        "\n",
        "def decision_region(X,y,model,step=0.01,title='decision region',xlabel='xlabel',ylabel='ylabel',target_names=['versicolor','virginica']):\n",
        "    #setting\n",
        "    scatter_color = ['red', 'blue']\n",
        "    contourf_color = ['pink', 'skyblue']\n",
        "    n_class = 2\n",
        "\n",
        "    #pred\n",
        "    mesh_f0, mesh_f1 = np.meshgrid(np.arange(np.min(X[:,0])-0.5, np.max(X[:,0])+0.5, step), np.arange(np.min(X[:,1])-0.5, np.max(X[:,1])+0.5, step))\n",
        "    mesh = np.c_[np.ravel(mesh_f0), np.ravel(mesh_f1)]\n",
        "    y_pred = model.predict(mesh).reshape(mesh_f0.shape)\n",
        "\n",
        "    #plot\n",
        "    plt.title(title)\n",
        "    plt.xlabel(xlabel)\n",
        "    plt.ylabel(ylabel)\n",
        "    plt.contourf(mesh_f0,mesh_f1,y_pred,n_class-1,cmap=ListedColormap(contourf_color))\n",
        "    plt.contour(mesh_f0,mesh_f1,y_pred,n_class-1,colors='y', linewidths=3,alpha=0.5)\n",
        "    for i, target in enumerate(set(y)):\n",
        "        plt.scatter(X[y==target][:,0], X[y==target][:,1],s=80,color=scatter_color[i],label=target_names[i],marker='o')\n",
        "    patches = [mpatches.Patch(color=scatter_color[i],label=target_names[i]) for i in range(n_class)]\n",
        "    plt.legend(handles=patches)\n",
        "    plt.legend()\n",
        "    plt.show()"
      ],
      "execution_count": 43,
      "outputs": []
    },
    {
      "cell_type": "code",
      "metadata": {
        "colab": {
          "base_uri": "https://localhost:8080/",
          "height": 594
        },
        "id": "aM1YIoosporF",
        "outputId": "e2d0a800-99f5-4163-b8d4-5e5bd07a8fa9"
      },
      "source": [
        "fit,ax = plt.subplots(figsize=(16,9))\n",
        "decision_region(X_train_std,y_train,clf,title='TRAIN')"
      ],
      "execution_count": 44,
      "outputs": [
        {
          "output_type": "display_data",
          "data": {
            "image/png": "[encoded data removed]",
            "text/plain": [
              "<Figure size 1152x648 with 1 Axes>"
            ]
          },
          "metadata": {
            "tags": [],
            "needs_background": "light"
          }
        }
      ]
    },
    {
      "cell_type": "code",
      "metadata": {
        "colab": {
          "base_uri": "https://localhost:8080/",
          "height": 594
        },
        "id": "iD7-ulFPrLLO",
        "outputId": "4f2d290f-4286-4d5e-df9e-d446f0f2ae39"
      },
      "source": [
        "fit,ax = plt.subplots(figsize=(16,9))\n",
        "decision_region(X_valid_std,y_valid,clf,title='VALID')"
      ],
      "execution_count": 45,
      "outputs": [
        {
          "output_type": "display_data",
          "data": {
            "image/png": "[encoded data removed]",
            "text/plain": [
              "<Figure size 1152x648 with 1 Axes>"
            ]
          },
          "metadata": {
            "tags": [],
            "needs_background": "light"
          }
        }
      ]
    },
    {
      "cell_type": "code",
      "metadata": {
        "colab": {
          "base_uri": "https://localhost:8080/",
          "height": 594
        },
        "id": "YqJHUfOvrN82",
        "outputId": "0ca97340-2113-4950-de41-66651f2a6fca"
      },
      "source": [
        "fit,ax = plt.subplots(figsize=(16,9))\n",
        "decision_region(X_train_std,y_train,clf2,title='TRAIN')"
      ],
      "execution_count": 46,
      "outputs": [
        {
          "output_type": "display_data",
          "data": {
            "image/png": "[encoded data removed]",
            "text/plain": [
              "<Figure size 1152x648 with 1 Axes>"
            ]
          },
          "metadata": {
            "tags": [],
            "needs_background": "light"
          }
        }
      ]
    },
    {
      "cell_type": "code",
      "metadata": {
        "colab": {
          "base_uri": "https://localhost:8080/",
          "height": 594
        },
        "id": "GTkJ71T4rSzt",
        "outputId": "483cdafc-521f-4e42-b3fa-92f85d52c8f5"
      },
      "source": [
        "fit,ax = plt.subplots(figsize=(16,9))\n",
        "decision_region(X_valid_std,y_valid,clf2,title='VALID')"
      ],
      "execution_count": 47,
      "outputs": [
        {
          "output_type": "display_data",
          "data": {
            "image/png": "[encoded data removed]",
            "text/plain": [
              "<Figure size 1152x648 with 1 Axes>"
            ]
          },
          "metadata": {
            "tags": [],
            "needs_background": "light"
          }
        }
      ]
    },
    {
      "cell_type": "markdown",
      "metadata": {
        "id": "NlavROh4rhoK"
      },
      "source": [
        "## [Problem 8] (Advance assignment) Saving weights"
      ]
    },
    {
      "cell_type": "code",
      "metadata": {
        "colab": {
          "base_uri": "https://localhost:8080/"
        },
        "id": "RqQLAKKMrjSj",
        "outputId": "4fbdaec4-a627-4952-b52e-a5fe6e71d9c2"
      },
      "source": [
        "np.load('theta.npy')"
      ],
      "execution_count": 49,
      "outputs": [
        {
          "output_type": "execute_result",
          "data": {
            "text/plain": [
              "array([0.01467358, 0.22897089, 0.24664812])"
            ]
          },
          "metadata": {
            "tags": []
          },
          "execution_count": 49
        }
      ]
    }
  ]
}