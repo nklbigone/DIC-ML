{
  "nbformat": 4,
  "nbformat_minor": 0,
  "metadata": {
    "colab": {
      "name": "Keras.ipynb",
      "provenance": [],
      "collapsed_sections": [],
      "authorship_tag": "ABX9TyMHiIEdkBCHoim3RhKggqIF",
      "include_colab_link": true
    },
    "kernelspec": {
      "name": "python3",
      "display_name": "Python 3"
    },
    "language_info": {
      "name": "python"
    },
    "accelerator": "GPU"
  },
  "cells": [
    {
      "cell_type": "markdown",
      "metadata": {
        "id": "view-in-github",
        "colab_type": "text"
      },
      "source": [
        "<a href=\"https://colab.research.google.com/github/nklbigone/DIC-ML/blob/main/Keras.ipynb\" target=\"_parent\"><img src=\"https://colab.research.google.com/assets/colab-badge.svg\" alt=\"Open In Colab\"/></a>"
      ]
    },
    {
      "cell_type": "markdown",
      "source": [
        "# **problem 1**\n",
        "\n",
        "https://www.tensorflow.org/tutorials/images/cnn"
      ],
      "metadata": {
        "id": "YwysqKHmpkvU"
      }
    },
    {
      "cell_type": "code",
      "execution_count": 4,
      "metadata": {
        "id": "BW9g3J8CiOBx"
      },
      "outputs": [],
      "source": [
        "import matplotlib.pyplot as plt\n",
        "import tensorflow as tf\n",
        "from tensorflow.keras import datasets, layers, models"
      ]
    },
    {
      "cell_type": "code",
      "source": [
        "(train_images, train_labels), (test_images, test_labels) = datasets.mnist.load_data()\n",
        "\n",
        "train_images = train_images.reshape((60000, 28, 28, 1))\n",
        "test_images = test_images.reshape((10000, 28, 28, 1))\n",
        "\n",
        "# Normalize pixel values to be between 0 and 1\n",
        "train_images, test_images = train_images / 255.0, test_images / 255.0"
      ],
      "metadata": {
        "id": "OngABwM0o6-J"
      },
      "execution_count": 5,
      "outputs": []
    },
    {
      "cell_type": "code",
      "source": [
        "model = models.Sequential()\n",
        "model.add(layers.Conv2D(32, (3, 3), activation='relu', input_shape=(28, 28, 1)))\n",
        "model.add(layers.MaxPooling2D((2, 2)))\n",
        "model.add(layers.Conv2D(64, (3, 3), activation='relu'))\n",
        "model.add(layers.MaxPooling2D((2, 2)))\n",
        "model.add(layers.Conv2D(64, (3, 3), activation='relu'))"
      ],
      "metadata": {
        "id": "r2xb1e_upXtr"
      },
      "execution_count": 6,
      "outputs": []
    },
    {
      "cell_type": "code",
      "source": [
        "model.summary()"
      ],
      "metadata": {
        "colab": {
          "base_uri": "https://localhost:8080/"
        },
        "id": "W4ME2904puES",
        "outputId": "405a9958-c493-4ee7-836c-66bbb28475e7"
      },
      "execution_count": 7,
      "outputs": [
        {
          "output_type": "stream",
          "name": "stdout",
          "text": [
            "Model: \"sequential\"\n",
            "_________________________________________________________________\n",
            " Layer (type)                Output Shape              Param #   \n",
            "=================================================================\n",
            " conv2d (Conv2D)             (None, 26, 26, 32)        320       \n",
            "                                                                 \n",
            " max_pooling2d (MaxPooling2D  (None, 13, 13, 32)       0         \n",
            " )                                                               \n",
            "                                                                 \n",
            " conv2d_1 (Conv2D)           (None, 11, 11, 64)        18496     \n",
            "                                                                 \n",
            " max_pooling2d_1 (MaxPooling  (None, 5, 5, 64)         0         \n",
            " 2D)                                                             \n",
            "                                                                 \n",
            " conv2d_2 (Conv2D)           (None, 3, 3, 64)          36928     \n",
            "                                                                 \n",
            "=================================================================\n",
            "Total params: 55,744\n",
            "Trainable params: 55,744\n",
            "Non-trainable params: 0\n",
            "_________________________________________________________________\n"
          ]
        }
      ]
    },
    {
      "cell_type": "code",
      "source": [
        "model.add(layers.Flatten())\n",
        "model.add(layers.Dense(64, activation='relu'))\n",
        "model.add(layers.Dense(10, activation='softmax'))"
      ],
      "metadata": {
        "id": "cl6EKG4kp3sz"
      },
      "execution_count": 8,
      "outputs": []
    },
    {
      "cell_type": "code",
      "source": [
        "model.summary()"
      ],
      "metadata": {
        "colab": {
          "base_uri": "https://localhost:8080/"
        },
        "id": "ZH7NBPjlp7ch",
        "outputId": "658eb8f9-1bfd-4333-8d80-4eae8157ef43"
      },
      "execution_count": 9,
      "outputs": [
        {
          "output_type": "stream",
          "name": "stdout",
          "text": [
            "Model: \"sequential\"\n",
            "_________________________________________________________________\n",
            " Layer (type)                Output Shape              Param #   \n",
            "=================================================================\n",
            " conv2d (Conv2D)             (None, 26, 26, 32)        320       \n",
            "                                                                 \n",
            " max_pooling2d (MaxPooling2D  (None, 13, 13, 32)       0         \n",
            " )                                                               \n",
            "                                                                 \n",
            " conv2d_1 (Conv2D)           (None, 11, 11, 64)        18496     \n",
            "                                                                 \n",
            " max_pooling2d_1 (MaxPooling  (None, 5, 5, 64)         0         \n",
            " 2D)                                                             \n",
            "                                                                 \n",
            " conv2d_2 (Conv2D)           (None, 3, 3, 64)          36928     \n",
            "                                                                 \n",
            " flatten (Flatten)           (None, 576)               0         \n",
            "                                                                 \n",
            " dense (Dense)               (None, 64)                36928     \n",
            "                                                                 \n",
            " dense_1 (Dense)             (None, 10)                650       \n",
            "                                                                 \n",
            "=================================================================\n",
            "Total params: 93,322\n",
            "Trainable params: 93,322\n",
            "Non-trainable params: 0\n",
            "_________________________________________________________________\n"
          ]
        }
      ]
    },
    {
      "cell_type": "markdown",
      "source": [
        "**Time to compilation and training Model**"
      ],
      "metadata": {
        "id": "akORBDwDqDg1"
      }
    },
    {
      "cell_type": "code",
      "source": [
        "model.compile(optimizer='adam',\n",
        "              loss=tf.keras.losses.SparseCategoricalCrossentropy(from_logits=True),\n",
        "              metrics=['accuracy'])\n",
        "\n",
        "history = model.fit(train_images, train_labels, epochs=5, \n",
        "                    validation_data=(test_images, test_labels))"
      ],
      "metadata": {
        "colab": {
          "base_uri": "https://localhost:8080/"
        },
        "id": "fIKYMuSBqMO4",
        "outputId": "5ee587c8-1be9-45f7-97c9-34cbe68ba20a"
      },
      "execution_count": 10,
      "outputs": [
        {
          "output_type": "stream",
          "name": "stdout",
          "text": [
            "Epoch 1/5\n"
          ]
        },
        {
          "output_type": "stream",
          "name": "stderr",
          "text": [
            "/usr/local/lib/python3.7/dist-packages/tensorflow/python/util/dispatch.py:1096: UserWarning: \"`sparse_categorical_crossentropy` received `from_logits=True`, but the `output` argument was produced by a sigmoid or softmax activation and thus does not represent logits. Was this intended?\"\n",
            "  return dispatch_target(*args, **kwargs)\n"
          ]
        },
        {
          "output_type": "stream",
          "name": "stdout",
          "text": [
            "1875/1875 [==============================] - 27s 8ms/step - loss: 0.1520 - accuracy: 0.9526 - val_loss: 0.0455 - val_accuracy: 0.9846\n",
            "Epoch 2/5\n",
            "1875/1875 [==============================] - 16s 8ms/step - loss: 0.0460 - accuracy: 0.9857 - val_loss: 0.0310 - val_accuracy: 0.9895\n",
            "Epoch 3/5\n",
            "1875/1875 [==============================] - 16s 8ms/step - loss: 0.0336 - accuracy: 0.9892 - val_loss: 0.0375 - val_accuracy: 0.9894\n",
            "Epoch 4/5\n",
            "1875/1875 [==============================] - 15s 8ms/step - loss: 0.0258 - accuracy: 0.9917 - val_loss: 0.0274 - val_accuracy: 0.9922\n",
            "Epoch 5/5\n",
            "1875/1875 [==============================] - 17s 9ms/step - loss: 0.0203 - accuracy: 0.9934 - val_loss: 0.0327 - val_accuracy: 0.9904\n"
          ]
        }
      ]
    },
    {
      "cell_type": "markdown",
      "source": [
        "**Time to Evaluate the model**"
      ],
      "metadata": {
        "id": "5QBgROFjrZUS"
      }
    },
    {
      "cell_type": "code",
      "source": [
        "plt.plot(history.history['accuracy'], label='accuracy')\n",
        "plt.plot(history.history['val_accuracy'], label = 'val_accuracy')\n",
        "plt.xlabel('Epoch')\n",
        "plt.ylabel('Accuracy')\n",
        "plt.ylim([0.5, 1])\n",
        "plt.legend(loc='lower right')\n",
        "\n",
        "test_loss, test_acc = model.evaluate(test_images,  test_labels, verbose=2)"
      ],
      "metadata": {
        "colab": {
          "base_uri": "https://localhost:8080/",
          "height": 300
        },
        "id": "H88piDZTriBu",
        "outputId": "c4697be4-8e5f-4daa-98d4-99a7673954c2"
      },
      "execution_count": 11,
      "outputs": [
        {
          "output_type": "stream",
          "name": "stdout",
          "text": [
            "313/313 - 2s - loss: 0.0327 - accuracy: 0.9904 - 2s/epoch - 5ms/step\n"
          ]
        },
        {
          "output_type": "display_data",
          "data": {
            "image/png": "[encoded data removed]",
            "text/plain": [
              "<Figure size 432x288 with 1 Axes>"
            ]
          },
          "metadata": {
            "needs_background": "light"
          }
        }
      ]
    },
    {
      "cell_type": "code",
      "source": [
        "print(test_acc)"
      ],
      "metadata": {
        "colab": {
          "base_uri": "https://localhost:8080/"
        },
        "id": "lXFFSvqfr1wJ",
        "outputId": "77672fae-2e64-4c9f-9e30-d5c117c6b822"
      },
      "execution_count": 12,
      "outputs": [
        {
          "output_type": "stream",
          "name": "stdout",
          "text": [
            "0.9904000163078308\n"
          ]
        }
      ]
    },
    {
      "cell_type": "markdown",
      "source": [
        "**Problem 3**"
      ],
      "metadata": {
        "id": "xWEOtZjasjwI"
      }
    },
    {
      "cell_type": "code",
      "source": [
        "import numpy as np\n",
        "import pandas as pd\n",
        "from keras import backend as K\n",
        "from sklearn.model_selection import train_test_split\n",
        "from sklearn.preprocessing import StandardScaler\n",
        "\n",
        "from tensorflow.keras.optimizers import Adam # - Works\n",
        "\n",
        "dataset_path =\"/Iris.csv\"\n",
        "df = pd.read_csv(dataset_path)\n",
        "\n",
        "df = df[(df[\"Species\"] == \"Iris-versicolor\")|(df[\"Species\"] == \"Iris-virginica\")]\n",
        "y = df[\"Species\"]\n",
        "X = df.loc[:, [\"SepalLengthCm\", \"SepalWidthCm\", \"PetalLengthCm\", \"PetalWidthCm\"]]\n",
        "y = np.array(y)\n",
        "X = np.array(X)\n",
        "\n",
        "y[y=='Iris-versicolor'] = 0\n",
        "y[y=='Iris-virginica'] = 1\n",
        "y = y.astype(np.int)[:, np.newaxis]\n",
        "\n",
        "X_train, X_test, y_train, y_test = train_test_split(X, y, test_size=0.2, random_state=0)\n",
        "\n",
        "X_train, X_val, y_train, y_val = train_test_split(X_train, y_train, test_size=0.2, random_state=0)"
      ],
      "metadata": {
        "id": "eerTjO_rsp8H"
      },
      "execution_count": 19,
      "outputs": []
    },
    {
      "cell_type": "code",
      "source": [
        "K.clear_session( )"
      ],
      "metadata": {
        "id": "P2tLqRQ0v89V"
      },
      "execution_count": 20,
      "outputs": []
    },
    {
      "cell_type": "code",
      "source": [
        "model = tf.keras.Sequential()\n",
        "model.add(tf.keras.layers.Dense(50, activation = tf.nn.relu, input_shape=(4,)))\n",
        "model.add(tf.keras.layers.Dense(100))\n",
        "model.add(tf.keras.layers.Dense(1, activation = tf.nn.sigmoid))"
      ],
      "metadata": {
        "id": "BOZkXN5QwA7a"
      },
      "execution_count": 21,
      "outputs": []
    },
    {
      "cell_type": "code",
      "source": [
        "model.summary()"
      ],
      "metadata": {
        "colab": {
          "base_uri": "https://localhost:8080/"
        },
        "id": "LU3vB3aGwFhg",
        "outputId": "f2ba070d-2536-4156-82c0-d4f5e9fc43b0"
      },
      "execution_count": 22,
      "outputs": [
        {
          "output_type": "stream",
          "name": "stdout",
          "text": [
            "Model: \"sequential\"\n",
            "_________________________________________________________________\n",
            " Layer (type)                Output Shape              Param #   \n",
            "=================================================================\n",
            " dense (Dense)               (None, 50)                250       \n",
            "                                                                 \n",
            " dense_1 (Dense)             (None, 100)               5100      \n",
            "                                                                 \n",
            " dense_2 (Dense)             (None, 1)                 101       \n",
            "                                                                 \n",
            "=================================================================\n",
            "Total params: 5,451\n",
            "Trainable params: 5,451\n",
            "Non-trainable params: 0\n",
            "_________________________________________________________________\n"
          ]
        }
      ]
    },
    {
      "cell_type": "code",
      "source": [
        "callback = tf.keras.callbacks.EarlyStopping(monitor='loss', patience=3)\n",
        "model.compile(loss='binary_crossentropy',\n",
        "              optimizer=tf.optimizers.Adam(learning_rate=0.01),\n",
        "              metrics=['accuracy'])\n",
        "history = model.fit(X_train, y_train,\n",
        "                    batch_size=10,\n",
        "                    epochs=10,\n",
        "                    verbose=1,\n",
        "                    callbacks=[callback],\n",
        "                    validation_data=(X_val, y_val))"
      ],
      "metadata": {
        "colab": {
          "base_uri": "https://localhost:8080/"
        },
        "id": "4qwQu-cowL4C",
        "outputId": "4bf2e0d3-fb2b-4fac-8648-4b10e3d0957b"
      },
      "execution_count": 24,
      "outputs": [
        {
          "output_type": "stream",
          "name": "stdout",
          "text": [
            "Epoch 1/10\n",
            "7/7 [==============================] - 1s 37ms/step - loss: 0.3339 - accuracy: 0.8750 - val_loss: 0.1131 - val_accuracy: 1.0000\n",
            "Epoch 2/10\n",
            "7/7 [==============================] - 0s 9ms/step - loss: 0.2037 - accuracy: 0.9375 - val_loss: 0.1398 - val_accuracy: 0.9375\n",
            "Epoch 3/10\n",
            "7/7 [==============================] - 0s 10ms/step - loss: 0.1352 - accuracy: 0.9531 - val_loss: 0.1166 - val_accuracy: 1.0000\n",
            "Epoch 4/10\n",
            "7/7 [==============================] - 0s 10ms/step - loss: 0.1315 - accuracy: 0.9531 - val_loss: 0.0627 - val_accuracy: 1.0000\n",
            "Epoch 5/10\n",
            "7/7 [==============================] - 0s 10ms/step - loss: 0.1315 - accuracy: 0.9375 - val_loss: 0.0594 - val_accuracy: 1.0000\n",
            "Epoch 6/10\n",
            "7/7 [==============================] - 0s 9ms/step - loss: 0.0873 - accuracy: 0.9688 - val_loss: 0.0584 - val_accuracy: 1.0000\n",
            "Epoch 7/10\n",
            "7/7 [==============================] - 0s 9ms/step - loss: 0.0915 - accuracy: 0.9688 - val_loss: 0.0537 - val_accuracy: 1.0000\n",
            "Epoch 8/10\n",
            "7/7 [==============================] - 0s 9ms/step - loss: 0.1040 - accuracy: 0.9531 - val_loss: 0.0515 - val_accuracy: 1.0000\n",
            "Epoch 9/10\n",
            "7/7 [==============================] - 0s 9ms/step - loss: 0.1524 - accuracy: 0.9375 - val_loss: 0.0640 - val_accuracy: 1.0000\n"
          ]
        }
      ]
    },
    {
      "cell_type": "code",
      "source": [
        "y_pred_proba = model.predict(X_test)[:, 0]\n",
        "y_pred = np.where(y_pred_proba >0.5, 1, 0)\n",
        "print(\"y_pred_proba\", y_pred_proba)\n",
        "print(\"y_pred\", y_pred)\n",
        "print('y_test', y_test.ravel())"
      ],
      "metadata": {
        "colab": {
          "base_uri": "https://localhost:8080/"
        },
        "id": "J69g3t3Mwi2v",
        "outputId": "e7bc3236-72e2-4860-c5f7-c20dcb9032c5"
      },
      "execution_count": 25,
      "outputs": [
        {
          "output_type": "stream",
          "name": "stdout",
          "text": [
            "y_pred_proba [4.2246286e-02 9.9983919e-01 2.0278569e-02 9.9998188e-01 9.9704093e-01\n",
            " 9.9994874e-01 3.2823858e-01 9.8352206e-01 9.9996567e-01 9.9865830e-01\n",
            " 9.9958366e-01 9.9967110e-01 9.9994612e-01 2.3355193e-01 6.2512385e-04\n",
            " 4.7975406e-03 9.5722872e-01 9.5648161e-04 9.9532568e-01 4.6635042e-03]\n",
            "y_pred [0 1 0 1 1 1 0 1 1 1 1 1 1 0 0 0 1 0 1 0]\n",
            "y_test [0 1 0 1 1 1 0 1 1 1 1 1 1 0 0 0 0 0 0 0]\n"
          ]
        }
      ]
    },
    {
      "cell_type": "code",
      "source": [
        "score = model.evaluate(X_test, y_test, verbose=0)\n",
        "print('Train loss:', score[0])\n",
        "print('Train accuracy:', score[1])"
      ],
      "metadata": {
        "colab": {
          "base_uri": "https://localhost:8080/"
        },
        "id": "AYgL7MnMwnYe",
        "outputId": "b23251ae-67f7-4230-aaa3-87e4da0ca173"
      },
      "execution_count": 26,
      "outputs": [
        {
          "output_type": "stream",
          "name": "stdout",
          "text": [
            "Train loss: 0.4639057219028473\n",
            "Train accuracy: 0.8999999761581421\n"
          ]
        }
      ]
    },
    {
      "cell_type": "markdown",
      "source": [
        "**Problen 4**"
      ],
      "metadata": {
        "id": "XN2gacWhwsM9"
      }
    },
    {
      "cell_type": "code",
      "source": [
        "from sklearn.preprocessing import OneHotEncoder"
      ],
      "metadata": {
        "id": "rXONbtznwxft"
      },
      "execution_count": 27,
      "outputs": []
    },
    {
      "cell_type": "code",
      "source": [
        "dataset_path =\"/Iris.csv\"\n",
        "df = pd.read_csv(dataset_path)\n",
        "\n",
        "y = df[\"Species\"]\n",
        "X = df.loc[:, [\"SepalLengthCm\", \"SepalWidthCm\", \"PetalLengthCm\", \"PetalWidthCm\"]]\n",
        "y = np.array(y)\n",
        "X = np.array(X)\n",
        "\n",
        "y[y=='Iris-setosa'] = 0\n",
        "y[y=='Iris-versicolor'] = 1\n",
        "y[y=='Iris-virginica'] = 2\n",
        "y = y.astype(np.int)[:, np.newaxis]\n",
        "\n",
        "X_train, X_test, y_train, y_test = train_test_split(X, y, test_size=0.2, random_state=0)\n",
        "\n",
        "X_train, X_val, y_train, y_val = train_test_split(X_train, y_train, test_size=0.2, random_state=0)\n",
        "\n",
        "\n",
        "enc = OneHotEncoder(handle_unknown='ignore', sparse=False)\n",
        "y_train_one_hot = enc.fit_transform(y_train)\n",
        "y_val_one_hot = enc.transform(y_val)\n",
        "y_test_one_hot = enc.transform(y_test)"
      ],
      "metadata": {
        "id": "phrWp2nKxAGy"
      },
      "execution_count": 29,
      "outputs": []
    },
    {
      "cell_type": "code",
      "source": [
        "K.clear_session( )\n",
        "model = tf.keras.Sequential()\n",
        "model.add(tf.keras.layers.Dense(50, activation = tf.nn.relu, input_shape=(4,)))\n",
        "model.add(tf.keras.layers.Dense(100))\n",
        "model.add(tf.keras.layers.Dense(3, activation = tf.nn.softmax))"
      ],
      "metadata": {
        "id": "NbJEVL3rxIjU"
      },
      "execution_count": 30,
      "outputs": []
    },
    {
      "cell_type": "code",
      "source": [
        "model.summary()"
      ],
      "metadata": {
        "colab": {
          "base_uri": "https://localhost:8080/"
        },
        "id": "iNUhPiiqxMUO",
        "outputId": "bc9ff64c-1af3-4bc7-9a44-486b4c5577bb"
      },
      "execution_count": 31,
      "outputs": [
        {
          "output_type": "stream",
          "name": "stdout",
          "text": [
            "Model: \"sequential\"\n",
            "_________________________________________________________________\n",
            " Layer (type)                Output Shape              Param #   \n",
            "=================================================================\n",
            " dense (Dense)               (None, 50)                250       \n",
            "                                                                 \n",
            " dense_1 (Dense)             (None, 100)               5100      \n",
            "                                                                 \n",
            " dense_2 (Dense)             (None, 3)                 303       \n",
            "                                                                 \n",
            "=================================================================\n",
            "Total params: 5,653\n",
            "Trainable params: 5,653\n",
            "Non-trainable params: 0\n",
            "_________________________________________________________________\n"
          ]
        }
      ]
    },
    {
      "cell_type": "code",
      "source": [
        "model.compile(loss='categorical_crossentropy',\n",
        "              optimizer=tf.optimizers.Adam(learning_rate=0.01),\n",
        "              metrics=['accuracy'])\n",
        "\n",
        "history = model.fit(X_train, y_train_one_hot,\n",
        "                    batch_size=10,\n",
        "                    epochs=10,\n",
        "                    verbose=0,\n",
        "                    validation_data=(X_val, y_val_one_hot))"
      ],
      "metadata": {
        "id": "e4IxhqXtxUkw"
      },
      "execution_count": 32,
      "outputs": []
    },
    {
      "cell_type": "code",
      "source": [
        "y_pred_proba = model.predict(X_test)[:, 0]\n",
        "y_pred = np.where(y_pred_proba >0.5, 1, 0)\n",
        "\n",
        "print(\"y_pred_proba\", y_pred_proba)\n",
        "print(\"y_pred\", y_pred)\n",
        "print('y_test', y_test.ravel())"
      ],
      "metadata": {
        "colab": {
          "base_uri": "https://localhost:8080/"
        },
        "id": "18GuvZVGxZHt",
        "outputId": "92e7f04f-33e7-4864-8572-608a24d93b47"
      },
      "execution_count": 33,
      "outputs": [
        {
          "output_type": "stream",
          "name": "stdout",
          "text": [
            "y_pred_proba [4.1600281e-08 1.4091991e-03 9.9986923e-01 5.8312217e-08 9.9896944e-01\n",
            " 8.5237567e-10 9.9939215e-01 9.8065741e-04 3.0982145e-04 6.3739554e-03\n",
            " 4.1465807e-07 2.6054864e-03 4.4394494e-04 5.2607292e-04 4.5801137e-04\n",
            " 9.9816388e-01 8.5243315e-04 5.9539831e-04 9.9777526e-01 9.9975961e-01\n",
            " 1.7037530e-06 9.3411707e-04 9.9701095e-01 9.9682605e-01 1.1692426e-04\n",
            " 9.9968970e-01 9.9858367e-01 2.7456419e-03 2.0227790e-02 9.9842995e-01]\n",
            "y_pred [0 0 1 0 1 0 1 0 0 0 0 0 0 0 0 1 0 0 1 1 0 0 1 1 0 1 1 0 0 1]\n",
            "y_test [2 1 0 2 0 2 0 1 1 1 2 1 1 1 1 0 1 1 0 0 2 1 0 0 2 0 0 1 1 0]\n"
          ]
        }
      ]
    },
    {
      "cell_type": "code",
      "source": [
        "y_pred_proba = model.predict(X_test)\n",
        "y_pred = np.argmax(y_pred_proba, axis=1)\n",
        "print(\"y_pred\", y_pred)\n",
        "print('y_test', y_test.ravel())"
      ],
      "metadata": {
        "colab": {
          "base_uri": "https://localhost:8080/"
        },
        "id": "J0ZVQKykxeAF",
        "outputId": "9322c7cf-6b48-4938-c152-6c2fbb8a66f9"
      },
      "execution_count": 34,
      "outputs": [
        {
          "output_type": "stream",
          "name": "stdout",
          "text": [
            "y_pred [2 1 0 2 0 2 0 1 1 1 2 1 1 1 1 0 1 1 0 0 2 1 0 0 1 0 0 1 1 0]\n",
            "y_test [2 1 0 2 0 2 0 1 1 1 2 1 1 1 1 0 1 1 0 0 2 1 0 0 2 0 0 1 1 0]\n"
          ]
        }
      ]
    },
    {
      "cell_type": "code",
      "source": [
        "score = model.evaluate(X_test, y_test_one_hot, verbose=0)\n",
        "print('Train loss:', score[0])\n",
        "print('Train accuracy:', score[1])"
      ],
      "metadata": {
        "colab": {
          "base_uri": "https://localhost:8080/"
        },
        "id": "Txv2x_Q8xh6l",
        "outputId": "0128b348-dd10-4e67-b97d-0b6ad8050676"
      },
      "execution_count": 35,
      "outputs": [
        {
          "output_type": "stream",
          "name": "stdout",
          "text": [
            "Train loss: 0.07536531239748001\n",
            "Train accuracy: 0.9666666388511658\n"
          ]
        }
      ]
    },
    {
      "cell_type": "markdown",
      "source": [
        "# problem **5**"
      ],
      "metadata": {
        "id": "m5-wMBFdxtRN"
      }
    },
    {
      "cell_type": "code",
      "source": [
        "from sklearn.preprocessing import StandardScaler\n",
        "\n",
        "train = pd.read_csv('train.csv')\n",
        "\n",
        "x = train[['GrLivArea', 'YearBuilt']]\n",
        "y = train[['SalePrice']]\n",
        "\n",
        "x = np.log(x).values\n",
        "y = np.log(y).values\n",
        "\n",
        "sc = StandardScaler()\n",
        "sc.fit_transform(x)\n",
        "\n",
        "X_train, X_test, y_train, y_test = train_test_split(x, y, test_size=0.2, random_state=0)\n",
        "\n",
        "X_train, X_val, y_train, y_val = train_test_split(X_train, y_train, test_size=0.2, random_state=0)"
      ],
      "metadata": {
        "id": "Th4Busz-xyyc"
      },
      "execution_count": 40,
      "outputs": []
    },
    {
      "cell_type": "code",
      "source": [
        "K.clear_session( )"
      ],
      "metadata": {
        "id": "rrP4hbNhza79"
      },
      "execution_count": 41,
      "outputs": []
    },
    {
      "cell_type": "code",
      "source": [
        "model = tf.keras.Sequential()\n",
        "model.add(tf.keras.layers.Dense(50, activation = tf.nn.relu, input_shape=(2,)))\n",
        "model.add(tf.keras.layers.Dense(100))\n",
        "model.add(tf.keras.layers.Dense(1, activation = tf.keras.activations.linear))"
      ],
      "metadata": {
        "id": "QscZG4kJzrpD"
      },
      "execution_count": 42,
      "outputs": []
    },
    {
      "cell_type": "code",
      "source": [
        "model.summary()"
      ],
      "metadata": {
        "colab": {
          "base_uri": "https://localhost:8080/"
        },
        "id": "UpssMni_zwq5",
        "outputId": "b03a9c33-83fb-4f47-c18a-625d1facae61"
      },
      "execution_count": 43,
      "outputs": [
        {
          "output_type": "stream",
          "name": "stdout",
          "text": [
            "Model: \"sequential\"\n",
            "_________________________________________________________________\n",
            " Layer (type)                Output Shape              Param #   \n",
            "=================================================================\n",
            " dense (Dense)               (None, 50)                150       \n",
            "                                                                 \n",
            " dense_1 (Dense)             (None, 100)               5100      \n",
            "                                                                 \n",
            " dense_2 (Dense)             (None, 1)                 101       \n",
            "                                                                 \n",
            "=================================================================\n",
            "Total params: 5,351\n",
            "Trainable params: 5,351\n",
            "Non-trainable params: 0\n",
            "_________________________________________________________________\n"
          ]
        }
      ]
    },
    {
      "cell_type": "code",
      "source": [
        "callback = tf.keras.callbacks.EarlyStopping(monitor='loss', patience=5)\n",
        "model.compile(loss='mse',\n",
        "              optimizer=tf.optimizers.Adam(learning_rate=0.01),\n",
        "              metrics=['mse'])\n",
        "history = model.fit(X_train, y_train,\n",
        "                    batch_size=10,\n",
        "                    epochs=20,\n",
        "                    verbose=1,\n",
        "                    callbacks=[callback],\n",
        "                    validation_data=(X_val, y_val))"
      ],
      "metadata": {
        "colab": {
          "base_uri": "https://localhost:8080/"
        },
        "id": "oY8e72njz1cg",
        "outputId": "077f1fe2-5c2b-4464-820c-c15a9f3734c8"
      },
      "execution_count": 44,
      "outputs": [
        {
          "output_type": "stream",
          "name": "stdout",
          "text": [
            "Epoch 1/20\n",
            "94/94 [==============================] - 2s 11ms/step - loss: 4.7553 - mse: 4.7553 - val_loss: 0.0896 - val_mse: 0.0896\n",
            "Epoch 2/20\n",
            "94/94 [==============================] - 1s 9ms/step - loss: 0.0796 - mse: 0.0796 - val_loss: 0.1193 - val_mse: 0.1193\n",
            "Epoch 3/20\n",
            "94/94 [==============================] - 1s 9ms/step - loss: 0.0882 - mse: 0.0882 - val_loss: 0.0955 - val_mse: 0.0955\n",
            "Epoch 4/20\n",
            "94/94 [==============================] - 1s 8ms/step - loss: 0.0801 - mse: 0.0801 - val_loss: 0.0760 - val_mse: 0.0760\n",
            "Epoch 5/20\n",
            "94/94 [==============================] - 1s 9ms/step - loss: 0.0856 - mse: 0.0856 - val_loss: 0.0884 - val_mse: 0.0884\n",
            "Epoch 6/20\n",
            "94/94 [==============================] - 1s 8ms/step - loss: 0.0930 - mse: 0.0930 - val_loss: 0.0754 - val_mse: 0.0754\n",
            "Epoch 7/20\n",
            "94/94 [==============================] - 1s 8ms/step - loss: 0.0895 - mse: 0.0895 - val_loss: 0.1197 - val_mse: 0.1197\n"
          ]
        }
      ]
    },
    {
      "cell_type": "code",
      "source": [
        "y_pred_proba = model.predict(X_test)\n",
        "y_pred = y_pred_proba\n",
        "print(\"y_pred\", y_pred.ravel()[:5])\n",
        "print('y_test', y_test.ravel()[:5])"
      ],
      "metadata": {
        "colab": {
          "base_uri": "https://localhost:8080/"
        },
        "id": "Raxhm7lbz-0Q",
        "outputId": "dae63c5e-73b5-47c4-f42f-d4dd8b0380a3"
      },
      "execution_count": 49,
      "outputs": [
        {
          "output_type": "stream",
          "name": "stdout",
          "text": [
            "y_pred [12.745876  12.304385  12.052868  12.5483885 11.968922 ]\n",
            "y_test [12.20918779 11.79810441 11.60823564 12.16525065 11.38509209]\n"
          ]
        }
      ]
    },
    {
      "cell_type": "code",
      "source": [
        "score = model.evaluate(X_test, y_test, verbose=0)\n",
        "print('loss (test):', score[0])\n",
        "print('Mean Squared Error (test):', score[1])"
      ],
      "metadata": {
        "colab": {
          "base_uri": "https://localhost:8080/"
        },
        "id": "W1K22hU60Ohf",
        "outputId": "932a22a9-19ee-43fa-dc68-775fedb31501"
      },
      "execution_count": 50,
      "outputs": [
        {
          "output_type": "stream",
          "name": "stdout",
          "text": [
            "loss (test): 0.10550981014966965\n",
            "Mean Squared Error (test): 0.10550981014966965\n"
          ]
        }
      ]
    },
    {
      "cell_type": "markdown",
      "source": [
        "# **problem 6**"
      ],
      "metadata": {
        "id": "TZ6RzB650lot"
      }
    },
    {
      "cell_type": "code",
      "source": [
        "from keras.datasets import mnist\n",
        "(X_train, y_train), (X_test, y_test) = mnist.load_data()\n",
        "\n",
        "X_train = X_train.reshape(-1, 784)\n",
        "X_test = X_test.reshape(-1, 784)\n",
        "\n",
        "X_train = X_train.astype(np.float)\n",
        "X_test = X_test.astype(np.float)\n",
        "X_train /= 255\n",
        "X_test /= 255\n",
        "\n",
        "X_train, X_val, y_train, y_val = train_test_split(X_train, y_train, test_size=0.2)\n",
        "\n",
        "from sklearn.preprocessing import OneHotEncoder\n",
        "enc = OneHotEncoder(handle_unknown='ignore', sparse=False)\n",
        "y_train_one_hot = enc.fit_transform(y_train[:, np.newaxis])\n",
        "y_val_one_hot = enc.transform(y_val[:, np.newaxis])\n",
        "y_test_one_hot = enc.transform(y_test[:, np.newaxis])"
      ],
      "metadata": {
        "id": "2-py0r0d0sTE"
      },
      "execution_count": 51,
      "outputs": []
    },
    {
      "cell_type": "code",
      "source": [
        "K.clear_session( )"
      ],
      "metadata": {
        "id": "LTojRv7b0wCv"
      },
      "execution_count": 52,
      "outputs": []
    },
    {
      "cell_type": "code",
      "source": [
        "model = tf.keras.Sequential()\n",
        "model.add(tf.keras.layers.Dense(50, activation = tf.nn.relu, input_shape=(784,)))\n",
        "model.add(tf.keras.layers.Dense(100))\n",
        "model.add(tf.keras.layers.Dense(10, activation = tf.nn.softmax))"
      ],
      "metadata": {
        "id": "sZR3YIyz0z0I"
      },
      "execution_count": 53,
      "outputs": []
    },
    {
      "cell_type": "code",
      "source": [
        "model.summary()"
      ],
      "metadata": {
        "colab": {
          "base_uri": "https://localhost:8080/"
        },
        "id": "3fm_u3vU03-t",
        "outputId": "5bb5d6d4-df2b-47f0-c98a-774010ad356d"
      },
      "execution_count": 54,
      "outputs": [
        {
          "output_type": "stream",
          "name": "stdout",
          "text": [
            "Model: \"sequential\"\n",
            "_________________________________________________________________\n",
            " Layer (type)                Output Shape              Param #   \n",
            "=================================================================\n",
            " dense (Dense)               (None, 50)                39250     \n",
            "                                                                 \n",
            " dense_1 (Dense)             (None, 100)               5100      \n",
            "                                                                 \n",
            " dense_2 (Dense)             (None, 10)                1010      \n",
            "                                                                 \n",
            "=================================================================\n",
            "Total params: 45,360\n",
            "Trainable params: 45,360\n",
            "Non-trainable params: 0\n",
            "_________________________________________________________________\n"
          ]
        }
      ]
    },
    {
      "cell_type": "code",
      "source": [
        "model.compile(loss='categorical_crossentropy',\n",
        "              optimizer=tf.optimizers.Adam(learning_rate=0.005),\n",
        "              metrics=['accuracy'])\n",
        "history = model.fit(X_train, y_train_one_hot,\n",
        "                    batch_size=20,\n",
        "                    epochs=5,\n",
        "                    verbose=1,\n",
        "                    validation_data=(X_val, y_val_one_hot))"
      ],
      "metadata": {
        "colab": {
          "base_uri": "https://localhost:8080/"
        },
        "id": "wV04wSUk0_VQ",
        "outputId": "5ed1cfc0-9287-411c-ef6e-155064a77d73"
      },
      "execution_count": 56,
      "outputs": [
        {
          "output_type": "stream",
          "name": "stdout",
          "text": [
            "Epoch 1/5\n",
            "2400/2400 [==============================] - 10s 4ms/step - loss: 0.1211 - accuracy: 0.9663 - val_loss: 0.1739 - val_accuracy: 0.9552\n",
            "Epoch 2/5\n",
            "2400/2400 [==============================] - 9s 4ms/step - loss: 0.1133 - accuracy: 0.9675 - val_loss: 0.1931 - val_accuracy: 0.9554\n",
            "Epoch 3/5\n",
            "2400/2400 [==============================] - 10s 4ms/step - loss: 0.1022 - accuracy: 0.9713 - val_loss: 0.2253 - val_accuracy: 0.9477\n",
            "Epoch 4/5\n",
            "2400/2400 [==============================] - 9s 4ms/step - loss: 0.1015 - accuracy: 0.9714 - val_loss: 0.2082 - val_accuracy: 0.9514\n",
            "Epoch 5/5\n",
            "2400/2400 [==============================] - 9s 4ms/step - loss: 0.0945 - accuracy: 0.9743 - val_loss: 0.2104 - val_accuracy: 0.9551\n"
          ]
        }
      ]
    },
    {
      "cell_type": "code",
      "source": [
        "y_pred_proba = model.predict(X_test)\n",
        "y_pred = np.argmax(y_pred_proba, axis=1)\n",
        "print(\"y_pred\", y_pred[:10])\n",
        "print('y_test', y_test.ravel()[:10])"
      ],
      "metadata": {
        "colab": {
          "base_uri": "https://localhost:8080/"
        },
        "id": "cVbd_0NC1GmJ",
        "outputId": "fa3795d9-666a-433e-f360-48a8e87ac035"
      },
      "execution_count": 57,
      "outputs": [
        {
          "output_type": "stream",
          "name": "stdout",
          "text": [
            "y_pred [7 2 1 0 4 1 4 9 5 9]\n",
            "y_test [7 2 1 0 4 1 4 9 5 9]\n"
          ]
        }
      ]
    },
    {
      "cell_type": "code",
      "source": [
        "score = model.evaluate(X_test, y_test_one_hot, verbose=0)\n",
        "print('Test loss:', score[0])\n",
        "print('Test accuracy:', score[1])"
      ],
      "metadata": {
        "colab": {
          "base_uri": "https://localhost:8080/"
        },
        "id": "Kf0cOA311-u_",
        "outputId": "369341c9-73eb-4912-f5f5-4748b12e0318"
      },
      "execution_count": 58,
      "outputs": [
        {
          "output_type": "stream",
          "name": "stdout",
          "text": [
            "Test loss: 0.18823623657226562\n",
            "Test accuracy: 0.9611999988555908\n"
          ]
        }
      ]
    }
  ]
}