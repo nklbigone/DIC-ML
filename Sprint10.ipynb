{
  "nbformat": 4,
  "nbformat_minor": 0,
  "metadata": {
    "colab": {
      "name": "Sprint10.ipynb",
      "provenance": [],
      "collapsed_sections": [],
      "authorship_tag": "ABX9TyNiod/dMNz4IdQZzSI5pARE",
      "include_colab_link": true
    },
    "kernelspec": {
      "name": "python3",
      "display_name": "Python 3"
    },
    "language_info": {
      "name": "python"
    },
    "accelerator": "GPU"
  },
  "cells": [
    {
      "cell_type": "markdown",
      "metadata": {
        "id": "view-in-github",
        "colab_type": "text"
      },
      "source": [
        "<a href=\"https://colab.research.google.com/github/nklbigone/DIC-ML/blob/main/Sprint10.ipynb\" target=\"_parent\"><img src=\"https://colab.research.google.com/assets/colab-badge.svg\" alt=\"Open In Colab\"/></a>"
      ]
    },
    {
      "cell_type": "code",
      "metadata": {
        "id": "p_jGiEdBiODv"
      },
      "source": [
        "import numpy as np\n",
        "from keras.datasets import mnist\n",
        "(X_train, y_train), (X_test, y_test) = mnist.load_data()"
      ],
      "execution_count": 2,
      "outputs": []
    },
    {
      "cell_type": "code",
      "metadata": {
        "id": "9K4yQ_ZLmaFG"
      },
      "source": [
        "X_train = X_train.reshape(-1, 784)\n",
        "X_test = X_test.reshape(-1, 784)"
      ],
      "execution_count": 3,
      "outputs": []
    },
    {
      "cell_type": "code",
      "metadata": {
        "id": "SXNHRQijmeqV"
      },
      "source": [
        "X_train = X_train.astype(np.float)\n",
        "X_test = X_test.astype(np.float)\n",
        "X_train /= 255\n",
        "X_test /= 255"
      ],
      "execution_count": 4,
      "outputs": []
    },
    {
      "cell_type": "code",
      "metadata": {
        "id": "b3_dv2rnmj0o"
      },
      "source": [
        "from sklearn.model_selection import train_test_split\n",
        "X_train, X_val, y_train, y_val = train_test_split(X_train, y_train, test_size=0.2)"
      ],
      "execution_count": 5,
      "outputs": []
    },
    {
      "cell_type": "markdown",
      "metadata": {
        "id": "y8ihZqQXms5a"
      },
      "source": [
        "\n",
        "## **[Problem 1] Classifying fully connected layers**"
      ]
    },
    {
      "cell_type": "code",
      "metadata": {
        "id": "GZaDIfM6mvfc"
      },
      "source": [
        "class FC:\n",
        "    \n",
        "     \"\"\"\n",
        "    Number of nodes Fully connected layer from n_nodes1 to n_nodes2\n",
        "    Parameters\n",
        "    ----------\n",
        "    n_nodes1 : int\n",
        "      Number of nodes in the previous layer\n",
        "    n_nodes2 : int\n",
        "      Number of nodes in the later layer\n",
        "    initializer: instance of initialization method\n",
        "    optimizer: instance of optimization method\n",
        "    \"\"\"\n",
        "    \n",
        "     def __init__(self, n_nodes1, n_nodes2, initializer, optimizer):\n",
        "        \n",
        "        self.optimizer = optimizer\n",
        "        self.W = initializer.W(n_nodes1, n_nodes2)\n",
        "        self.B = initializer.B(n_nodes2)\n",
        "       \n",
        "        self.X = None\n",
        "        self.dZ = None\n",
        "        \n",
        "    \n",
        "     def forward(self, X):\n",
        "        \"\"\"\n",
        "        forward\n",
        "        Parameters\n",
        "        ----------\n",
        "        X : The following forms of ndarray, shape (batch_size, n_nodes1)\n",
        "            入力\n",
        "        Returns\n",
        "        ----------\n",
        "        A : The following forms of ndarray, shape (batch_size, n_nodes2)\n",
        "            output\n",
        "        \"\"\"        \n",
        "        self.X = X\n",
        "        A = X.dot(self.W) + self.B\n",
        "\n",
        "        return A\n",
        "    \n",
        "    \n",
        "     def backward(self, dA):\n",
        "        \n",
        "       \"\"\"\n",
        "        Backward\n",
        "        Parameters\n",
        "        ----------\n",
        "        dA : The following forms of ndarray, shape (batch_size, n_nodes2)\n",
        "            Gradient flowing from behind\n",
        "        Returns\n",
        "        ----------\n",
        "        dZ : The following forms of ndarray, shape (batch_size, n_nodes1)\n",
        "            Gradient to flow forward\n",
        "        \"\"\"\n",
        "       self.dZ = np.dot(dA, self.W.T)\n",
        "       self.dB = np.sum(dA, axis=0)\n",
        "       self.dW = np.dot(self.X.T, dA)\n",
        "       self.optimizer.update(self)\n",
        "          \n",
        "       return self.dZ"
      ],
      "execution_count": 6,
      "outputs": []
    },
    {
      "cell_type": "markdown",
      "metadata": {
        "id": "uhNu4EuUm-UZ"
      },
      "source": [
        "## **[Problem 2] Classifying the initialization method**"
      ]
    },
    {
      "cell_type": "code",
      "metadata": {
        "id": "KboF92-VnBJE"
      },
      "source": [
        "class SimpleInitializer():\n",
        "    \n",
        "    \"\"\"\n",
        "    Simple initialization with Gaussian distribution\n",
        "    Parameters\n",
        "    ----------\n",
        "    sigma : float\n",
        "      Standard deviation of Gaussian distribution\n",
        "    \"\"\"\n",
        "    \n",
        "    def __init__(self, sigma=0.01):\n",
        "        \n",
        "        self.sigma = sigma\n",
        "        \n",
        "        \n",
        "    def W(self, n_nodes1, n_nodes2):\n",
        "        \n",
        "        \"\"\"\n",
        "        Weight initialization\n",
        "        Parameters\n",
        "        ----------\n",
        "        n_nodes1 : int\n",
        "          Number of nodes in the previous layer\n",
        "        n_nodes2 : int\n",
        "          Number of nodes in the later layer\n",
        "        Returns\n",
        "        ----------\n",
        "        W :\n",
        "        \"\"\"\n",
        "        \n",
        "        W = self.sigma * np.random.randn(n_nodes1, n_nodes2)\n",
        "        \n",
        "        return W\n",
        "    \n",
        "    \n",
        "    def B(self, n_nodes2):\n",
        "        \n",
        "        \"\"\"\n",
        "        バイアスの初期化\n",
        "        \n",
        "        Parameters\n",
        "        ----------\n",
        "        n_nodes2 : int\n",
        "          後の層のノード数\n",
        "          \n",
        "        Returns\n",
        "        ----------\n",
        "        B :float\n",
        "            バイアスの初期値\n",
        "            \n",
        "        \"\"\"\n",
        "        \n",
        "        B = self.sigma * np.random.randn(n_nodes2)\n",
        "        \n",
        "        return B"
      ],
      "execution_count": 7,
      "outputs": []
    },
    {
      "cell_type": "markdown",
      "metadata": {
        "id": "fyRc64NrnNbL"
      },
      "source": [
        "## **[Problem 3] Classifying optimization methods**"
      ]
    },
    {
      "cell_type": "code",
      "metadata": {
        "id": "_iB-6jWhnQHl"
      },
      "source": [
        "class SGD:\n",
        "    \"\"\"\n",
        "    Stochastic gradient descent\n",
        "    Parameters\n",
        "    ----------\n",
        "    lr : Learning rate\n",
        "    \"\"\"\n",
        "    def __init__(self, lr):\n",
        "        self.lr = lr\n",
        "    def update(self, layer):\n",
        "        \"\"\"\n",
        "        Update weights and biases for a layer\n",
        "        Parameters\n",
        "        ----------\n",
        "        layer : Instance of the layer before update\n",
        "        \"\"\"\n",
        "        layer.W -= self.lr * layer.dW\n",
        "        layer.B -= self.lr * layer.dB"
      ],
      "execution_count": 8,
      "outputs": []
    },
    {
      "cell_type": "markdown",
      "metadata": {
        "id": "1myJX7P6nu_A"
      },
      "source": [
        "## **[Problem 4] Classifying activation functions**"
      ]
    },
    {
      "cell_type": "code",
      "metadata": {
        "id": "X_pHgdRKnylp"
      },
      "source": [
        "class Tanh:\n",
        "         \n",
        "    def forward(self, A):\n",
        "\n",
        "        self.Z = (np.exp(A) - np.exp(-A)) / (np.exp(A) + np.exp(-A))\n",
        "        return self.Z\n",
        "    \n",
        "    \n",
        "    def backward(self, dZ):\n",
        "        \n",
        "        dA = dZ*(1 - self.Z)**2\n",
        "        return dA"
      ],
      "execution_count": 9,
      "outputs": []
    },
    {
      "cell_type": "code",
      "metadata": {
        "id": "jOMdzqR_n-qn"
      },
      "source": [
        "class Softmax:\n",
        "    \n",
        "    def forward(self, A):\n",
        "        \n",
        "        A = A - np.max(A, axis=1, keepdims=True)\n",
        "        Z = np.exp(A) / np.sum(np.exp(A), axis=1, keepdims=True)\n",
        "        return Z\n",
        "        \n",
        "        \n",
        "    def backward(self, dZ, Y):\n",
        "        \n",
        "        batch_size = dZ.shape[0]\n",
        "        dA = (dZ - Y) / batch_size\n",
        "        \n",
        "        loss = (-1)*np.sum(Y * np.log(dZ + 1e-7))  / batch_size\n",
        "        \n",
        "        \n",
        "        return dA, loss"
      ],
      "execution_count": 10,
      "outputs": []
    },
    {
      "cell_type": "markdown",
      "metadata": {
        "id": "3f4jZufXoITb"
      },
      "source": [
        "\n",
        "## **[Problem 5] ReLU class creation**"
      ]
    },
    {
      "cell_type": "code",
      "metadata": {
        "id": "2wmBoWtBoKz_"
      },
      "source": [
        "class ReLU:\n",
        "    \n",
        "    \n",
        "    def __init__(self):\n",
        "        \n",
        "        self.mask = None\n",
        "    \n",
        "    \n",
        "    def forward(self, A):\n",
        "\n",
        "        self.mask = (A <= 0)\n",
        "        Z = np.maximum(0, A)\n",
        "        return Z\n",
        "        \n",
        "    \n",
        "    def backward(self, dA):\n",
        "        \n",
        "        dA[self.mask] = 0\n",
        "        return dA"
      ],
      "execution_count": 11,
      "outputs": []
    },
    {
      "cell_type": "markdown",
      "metadata": {
        "id": "7i4udoQDoVpj"
      },
      "source": [
        "## **[Problem 6] Initial value of weight**"
      ]
    },
    {
      "cell_type": "code",
      "metadata": {
        "id": "dpS3svzsolgv"
      },
      "source": [
        "class XavierInitializer:\n",
        "    \n",
        "    def __init__(self, sigma):\n",
        "        \n",
        "        self.sigma = sigma\n",
        "        \n",
        "            \n",
        "    def W(self, n_nodes1, n_nodes2):\n",
        "        self.n_nodes1 = n_nodes1\n",
        "        self.sigma = 1 / np.sqrt(n_nodes1)\n",
        "        W = self.sigma * np.random.randn(n_nodes1, n_nodes2)\n",
        "        \n",
        "        return W\n",
        "    \n",
        "    \n",
        "    def B(self, n_nodes2):\n",
        "        self.sigma = 1 / np.sqrt(self.n_nodes1)\n",
        "        B = self.sigma * np.random.randn(n_nodes2)\n",
        "        \n",
        "        return B"
      ],
      "execution_count": 12,
      "outputs": []
    },
    {
      "cell_type": "code",
      "metadata": {
        "id": "O8kxBOCaovUw"
      },
      "source": [
        "class HeInitializer:\n",
        "    def __init__(self, sigma):\n",
        "        \n",
        "        self.sigma = sigma\n",
        "        \n",
        "    def W(self, n_nodes1, n_nodes2):\n",
        "        self.n_nodes1 = n_nodes1\n",
        "        sigma = np.sqrt(2 / n_nodes1)\n",
        "        W = sigma * np.random.randn(n_nodes1, n_nodes2)\n",
        "        \n",
        "        return W\n",
        "    \n",
        "    \n",
        "    def B(self, n_nodes2):\n",
        "        \n",
        "        sigma = np.sqrt(2 / self.n_nodes1)\n",
        "        B = sigma * np.random.randn(n_nodes2)\n",
        "        \n",
        "        return B"
      ],
      "execution_count": 13,
      "outputs": []
    },
    {
      "cell_type": "markdown",
      "metadata": {
        "id": "tWo-xOtAo1Ck"
      },
      "source": [
        "## **[Problem 7] Optimization method**"
      ]
    },
    {
      "cell_type": "code",
      "metadata": {
        "id": "VNjpgfG4o3Ss"
      },
      "source": [
        "class AdaGrad():\n",
        "    def __init__(self, lr):\n",
        "        \n",
        "        self.lr = lr\n",
        "        self.hW = 1.\n",
        "        self.hB = 1.\n",
        "        \n",
        "    def update(self, layer):\n",
        "        self.hW += np.mean(layer.dW, axis=0)**2\n",
        "        self.hB += ((np.mean(layer.dB, axis=0))**2).sum(axis=0)\n",
        "        \n",
        "        layer.W -= (self.lr / np.sqrt(self.hW)) * layer.dW\n",
        "        layer.B -= (self.lr / np.sqrt(self.hB)) * layer.dB"
      ],
      "execution_count": 14,
      "outputs": []
    },
    {
      "cell_type": "code",
      "metadata": {
        "id": "G__jEO1MpBW6"
      },
      "source": [
        "class GetMiniBatch:\n",
        "    \n",
        "    def __init__(self, X, y, batch_size = 20, seed=0):\n",
        "        \n",
        "        self.batch_size = batch_size\n",
        "        np.random.seed(seed)\n",
        "        shuffle_index = np.random.permutation(np.arange(X.shape[0]))\n",
        "        self._X = X[shuffle_index]\n",
        "        self._y = y[shuffle_index]\n",
        "        self._stop = np.ceil(X.shape[0]/self.batch_size).astype(np.int)\n",
        "        \n",
        "        \n",
        "    def __len__(self):\n",
        "        return self._stop\n",
        "    \n",
        "    \n",
        "    def __getitem__(self,item):\n",
        "        p0 = item*self.batch_size\n",
        "        p1 = item*self.batch_size + self.batch_size\n",
        "        return self._X[p0:p1], self._y[p0:p1]\n",
        "    \n",
        "    \n",
        "    def __iter__(self):\n",
        "        self._counter = 0\n",
        "        return self\n",
        "    \n",
        "    \n",
        "    def __next__(self):\n",
        "        \n",
        "        if self._counter >= self._stop:\n",
        "            raise StopIteration()\n",
        "            \n",
        "        p0 = self._counter*self.batch_size\n",
        "        p1 = self._counter*self.batch_size + self.batch_size\n",
        "        self._counter += 1\n",
        "        return self._X[p0:p1], self._y[p0:p1]"
      ],
      "execution_count": 15,
      "outputs": []
    },
    {
      "cell_type": "markdown",
      "metadata": {
        "id": "Nl30kxenpM2Y"
      },
      "source": [
        "## **[Problem 8] Class completion**"
      ]
    },
    {
      "cell_type": "code",
      "metadata": {
        "id": "ha1gq4fSpPnV"
      },
      "source": [
        "class ScratchDeepNeuralNetrowkClassifier():\n",
        "   \n",
        "    def __init__(self, initializer, optimizer, activator1, activator2, lr = 0.01,  batch_size = 20, n_features = 784, n_nodes1 = 400, n_nodes2 = 200, n_output = 10, sigma=0.01, n_epochs=20, verbose = True):\n",
        "        \n",
        "        self.verbose = verbose\n",
        "        \n",
        "        self.n_epochs = n_epochs\n",
        "        self.batch_size = batch_size\n",
        "        self.n_features = n_features\n",
        "        self.n_nodes1 = n_nodes1\n",
        "        self.n_nodes2 = n_nodes2\n",
        "        self.n_output = n_output\n",
        "        \n",
        "        self.FC1 = None\n",
        "        self.FC2 = None\n",
        "        self.FC3 = None\n",
        "        \n",
        "        self.initializer = initializer\n",
        "        self.optimizer = optimizer\n",
        "        self.lr = lr\n",
        "        \n",
        "        self.activator1 = activator1\n",
        "        self.activator2 = activator2   \n",
        "        \n",
        "        self.sigma = sigma\n",
        "        \n",
        "        self.loss = None\n",
        "        self.val_loss = None\n",
        "        \n",
        "        self.loss_hist = []\n",
        "        self.val_loss_hist = []\n",
        "# Function to process for one epoch during training\n",
        "        \n",
        "    def forward_and_backward(self, X, y):\n",
        "        \n",
        "        Y = np.identity(10)[y]\n",
        "        \n",
        "        A1 = self.FC1.forward(X)\n",
        "        Z1 = self.activation1.forward(A1)\n",
        "        \n",
        "        A2 = self.FC2.forward(Z1)\n",
        "        Z2 = self.activation2.forward(A2)\n",
        "        A3 = self.FC3.forward(Z2)\n",
        "        Z3 = self.activation3.forward(A3)\n",
        "\n",
        "        dA3, self.loss = self.activation3.backward(Z3, Y) \n",
        "        dZ2 = self.FC3.backward(dA3)\n",
        "        dA2 = self.activation2.backward(dZ2)\n",
        "        dZ1 = self.FC2.backward(dA2)\n",
        "        dA1 = self.activation1.backward(dZ1)\n",
        "        dZ0 = self.FC1.backward(dA1)\n",
        "\n",
        "    def forward_with_loss(self, X, y):\n",
        "        \n",
        "        Y = np.identity(10)[y]\n",
        "        \n",
        "        A1 = self.FC1.forward(X)\n",
        "        Z1 = self.activation1.forward(A1)\n",
        "        A2 = self.FC2.forward(Z1)\n",
        "        Z2 = self.activation2.forward(A2)\n",
        "        A3 = self.FC3.forward(Z2)\n",
        "        Z3 = self.activation3.forward(A3)\n",
        "        \n",
        "        dA3, self.val_loss = self.activation3.backward(Z3, Y) \n",
        "        \n",
        "    \n",
        "    def fit(self, X, y, X_val=None, y_val=None):\n",
        "        \n",
        "        \n",
        "        \n",
        "        # Generate all nodes first\n",
        "        self.FC1 = FC(self.n_features, self.n_nodes1, self.initializer(self.sigma), self.optimizer(self.lr))\n",
        "        self.activation1 = self.activator1\n",
        "    \n",
        "        self.FC2 = FC(self.n_nodes1, self.n_nodes2, self.initializer(self.sigma), self.optimizer(self.lr))\n",
        "        self.activation2 = self.activator2\n",
        "        \n",
        "        self.FC3 = FC(self.n_nodes2, self.n_output, self.initializer(self.sigma), self.optimizer(self.lr))\n",
        "        self.activation3 = Softmax()\n",
        "        # Generate a mini-batch of training data\n",
        "        get_mini_batch_train = GetMiniBatch(X, y, batch_size=self.batch_size)\n",
        "        \n",
        "        get_mini_batch_val = GetMiniBatch(X_val, y_val, batch_size=self.batch_size)\n",
        "        \n",
        "        for epoch in range(self.n_epochs):\n",
        "            \n",
        "            for mini_X_train, mini_y_train in get_mini_batch_train:\n",
        "                self.forward_and_backward(mini_X_train, mini_y_train)\n",
        "                \n",
        "            self.loss_hist.append(self.loss)\n",
        "            mini_X_val, mini_y_val = get_mini_batch_val[0]\n",
        "            self.forward_with_loss(mini_X_val, mini_y_val)\n",
        "            self.val_loss_hist.append(self.val_loss)\n",
        "        \n",
        "            \n",
        "            if self.verbose:\n",
        "\n",
        "                print('#'*25)\n",
        "                print('### Epoch %i'%(epoch+1))\n",
        "                print('#'*25)\n",
        "                \n",
        "                print(\"Loss of training data : {}\".format(self.loss))\n",
        "                print(\"Loss of validation data : {}\".format(self.val_loss))\n",
        "                \n",
        "                print()\n",
        "                \n",
        "                \n",
        "    \n",
        "    def predict(self, X):\n",
        "        \n",
        "        A1 = self.FC1.forward(X)\n",
        "        Z1 = self.activation1.forward(A1)\n",
        "        A2 = self.FC2.forward(Z1)\n",
        "        Z2 = self.activation2.forward(A2)\n",
        "        A3 = self.FC3.forward(Z2)\n",
        "        Z3 = self.activation3.forward(A3)\n",
        "        \n",
        "        pred = Z3.argmax(axis=1)\n",
        "        return pred"
      ],
      "execution_count": 16,
      "outputs": []
    },
    {
      "cell_type": "markdown",
      "metadata": {
        "id": "rl7Cm3lHpcq0"
      },
      "source": [
        "## **[Problem 9] Learning and estimation**"
      ]
    },
    {
      "cell_type": "code",
      "metadata": {
        "id": "fr1npbEBpalW"
      },
      "source": [
        "dnn = ScratchDeepNeuralNetrowkClassifier(initializer=SimpleInitializer, optimizer = SGD, lr=0.001,  sigma=0.01, activator1=Tanh(),  activator2=Tanh(), n_epochs=20, verbose = True)"
      ],
      "execution_count": 17,
      "outputs": []
    },
    {
      "cell_type": "code",
      "metadata": {
        "colab": {
          "base_uri": "https://localhost:8080/"
        },
        "id": "KzDp3UctpqvE",
        "outputId": "466521a8-42ce-4f00-c3a7-45562773c86e"
      },
      "source": [
        "dnn.fit(X_train, y_train, X_val, y_val)"
      ],
      "execution_count": 18,
      "outputs": [
        {
          "output_type": "stream",
          "text": [
            "#########################\n",
            "### Epoch 1\n",
            "#########################\n",
            "Loss of training data : 2.29509892760332\n",
            "Loss of validation data : 2.297509889515573\n",
            "\n",
            "#########################\n",
            "### Epoch 2\n",
            "#########################\n",
            "Loss of training data : 2.2841648422963816\n",
            "Loss of validation data : 2.28895726666194\n",
            "\n",
            "#########################\n",
            "### Epoch 3\n",
            "#########################\n",
            "Loss of training data : 2.2487012551632644\n",
            "Loss of validation data : 2.2590948120475565\n",
            "\n",
            "#########################\n",
            "### Epoch 4\n",
            "#########################\n",
            "Loss of training data : 2.066140229101051\n",
            "Loss of validation data : 2.1192522948507055\n",
            "\n",
            "#########################\n",
            "### Epoch 5\n",
            "#########################\n",
            "Loss of training data : 1.9048511609295353\n",
            "Loss of validation data : 1.9754133961947749\n",
            "\n",
            "#########################\n",
            "### Epoch 6\n",
            "#########################\n",
            "Loss of training data : 1.7571778643048224\n",
            "Loss of validation data : 2.0309266018920233\n",
            "\n",
            "#########################\n",
            "### Epoch 7\n",
            "#########################\n",
            "Loss of training data : 1.619118246182935\n",
            "Loss of validation data : 1.9748310603547683\n",
            "\n",
            "#########################\n",
            "### Epoch 8\n",
            "#########################\n",
            "Loss of training data : 1.5715916744563923\n",
            "Loss of validation data : 1.835272390270255\n",
            "\n",
            "#########################\n",
            "### Epoch 9\n",
            "#########################\n",
            "Loss of training data : 1.4680390892745316\n",
            "Loss of validation data : 1.7668500266129095\n",
            "\n",
            "#########################\n",
            "### Epoch 10\n",
            "#########################\n",
            "Loss of training data : 1.2975029710092199\n",
            "Loss of validation data : 1.7130088837024062\n",
            "\n",
            "#########################\n",
            "### Epoch 11\n",
            "#########################\n",
            "Loss of training data : 1.090681352010208\n",
            "Loss of validation data : 1.704969167031028\n",
            "\n",
            "#########################\n",
            "### Epoch 12\n",
            "#########################\n",
            "Loss of training data : 1.0243331442131451\n",
            "Loss of validation data : 1.687350466428618\n",
            "\n",
            "#########################\n",
            "### Epoch 13\n",
            "#########################\n",
            "Loss of training data : 1.0297109540515827\n",
            "Loss of validation data : 1.598786651184786\n",
            "\n",
            "#########################\n",
            "### Epoch 14\n",
            "#########################\n",
            "Loss of training data : 1.0386576888055952\n",
            "Loss of validation data : 1.5363538940158201\n",
            "\n",
            "#########################\n",
            "### Epoch 16\n",
            "#########################\n",
            "Loss of training data : 1.0898595010622505\n",
            "Loss of validation data : 1.3069093993243517\n",
            "\n",
            "#########################\n",
            "### Epoch 17\n",
            "#########################\n",
            "Loss of training data : 1.069595727493058\n",
            "Loss of validation data : 1.2711340226156473\n",
            "\n",
            "#########################\n",
            "### Epoch 18\n",
            "#########################\n",
            "Loss of training data : 1.0757829019223424\n",
            "Loss of validation data : 1.2910842598897931\n",
            "\n",
            "#########################\n",
            "### Epoch 19\n",
            "#########################\n",
            "Loss of training data : 1.0555011361957702\n",
            "Loss of validation data : 1.3310921266820175\n",
            "\n",
            "#########################\n",
            "### Epoch 20\n",
            "#########################\n",
            "Loss of training data : 1.0030041957969282\n",
            "Loss of validation data : 1.3538617764127974\n",
            "\n"
          ],
          "name": "stdout"
        }
      ]
    },
    {
      "cell_type": "code",
      "metadata": {
        "colab": {
          "base_uri": "https://localhost:8080/",
          "height": 265
        },
        "id": "2xQx_ll2rLU3",
        "outputId": "976c9cd5-3a46-4751-dd86-212068fd62e7"
      },
      "source": [
        "import matplotlib.pyplot as plt\n",
        "\n",
        "plt.plot(np.arange(1, dnn.n_epochs+1), dnn.loss_hist)\n",
        "plt.plot(np.arange(1, dnn.n_epochs+1), dnn.val_loss_hist)\n",
        "\n",
        "plt.show()"
      ],
      "execution_count": 19,
      "outputs": [
        {
          "output_type": "display_data",
          "data": {
            "image/png": "[encoded data removed]",
            "text/plain": [
              "<Figure size 432x288 with 1 Axes>"
            ]
          },
          "metadata": {
            "tags": [],
            "needs_background": "light"
          }
        }
      ]
    },
    {
      "cell_type": "code",
      "metadata": {
        "colab": {
          "base_uri": "https://localhost:8080/"
        },
        "id": "YmppgbbSrYgn",
        "outputId": "50c13b0a-d12d-4ef3-8944-15c7680b69f4"
      },
      "source": [
        "y_pred = dnn.predict(X_test)\n",
        "y_pred"
      ],
      "execution_count": 20,
      "outputs": [
        {
          "output_type": "execute_result",
          "data": {
            "text/plain": [
              "array([7, 2, 1, ..., 9, 9, 6])"
            ]
          },
          "metadata": {
            "tags": []
          },
          "execution_count": 20
        }
      ]
    },
    {
      "cell_type": "code",
      "metadata": {
        "colab": {
          "base_uri": "https://localhost:8080/"
        },
        "id": "VNjA8JC5rd_4",
        "outputId": "6c3f516f-ac9b-469d-f6bd-8ae15c3b1d10"
      },
      "source": [
        "from sklearn.metrics import accuracy_score\n",
        "accuracy3 = accuracy_score(y_test, y_pred)\n",
        "accuracy3"
      ],
      "execution_count": 21,
      "outputs": [
        {
          "output_type": "execute_result",
          "data": {
            "text/plain": [
              "0.6397"
            ]
          },
          "metadata": {
            "tags": []
          },
          "execution_count": 21
        }
      ]
    },
    {
      "cell_type": "code",
      "metadata": {
        "id": "Nl7fBBOqrkcq"
      },
      "source": [
        "dnn4 = ScratchDeepNeuralNetrowkClassifier(initializer=HeInitializer,optimizer = SGD, lr=0.001,  sigma=0.01, activator1=ReLU(), activator2=ReLU(), n_epochs=20, verbose = True)"
      ],
      "execution_count": 22,
      "outputs": []
    },
    {
      "cell_type": "code",
      "metadata": {
        "colab": {
          "base_uri": "https://localhost:8080/"
        },
        "id": "DI1nD0Nurp7S",
        "outputId": "927341e2-99f1-403a-92cb-260fc5f4d780"
      },
      "source": [
        "dnn4.fit(X_train, y_train, X_val, y_val)"
      ],
      "execution_count": 23,
      "outputs": [
        {
          "output_type": "stream",
          "text": [
            "#########################\n",
            "### Epoch 1\n",
            "#########################\n",
            "Loss of training data : 0.8552549175658692\n",
            "Loss of validation data : 0.8577082003273591\n",
            "\n",
            "#########################\n",
            "### Epoch 2\n",
            "#########################\n",
            "Loss of training data : 0.4844739161937796\n",
            "Loss of validation data : 0.5424910908938088\n",
            "\n",
            "#########################\n",
            "### Epoch 3\n",
            "#########################\n",
            "Loss of training data : 0.36098834697323373\n",
            "Loss of validation data : 0.432551431253808\n",
            "\n",
            "#########################\n",
            "### Epoch 4\n",
            "#########################\n",
            "Loss of training data : 0.3078627143649708\n",
            "Loss of validation data : 0.37539893432479166\n",
            "\n",
            "#########################\n",
            "### Epoch 5\n",
            "#########################\n",
            "Loss of training data : 0.2805794107083782\n",
            "Loss of validation data : 0.3412497930634476\n",
            "\n",
            "#########################\n",
            "### Epoch 6\n",
            "#########################\n",
            "Loss of training data : 0.2646986399768208\n",
            "Loss of validation data : 0.31918925011361915\n",
            "\n",
            "#########################\n",
            "### Epoch 7\n",
            "#########################\n",
            "Loss of training data : 0.2541574224237194\n",
            "Loss of validation data : 0.30288277336091574\n",
            "\n",
            "#########################\n",
            "### Epoch 8\n",
            "#########################\n",
            "Loss of training data : 0.24711491819092385\n",
            "Loss of validation data : 0.2904683251806257\n",
            "\n",
            "#########################\n",
            "### Epoch 9\n",
            "#########################\n",
            "Loss of training data : 0.24146713869316985\n",
            "Loss of validation data : 0.28007092249397986\n",
            "\n",
            "#########################\n",
            "### Epoch 10\n",
            "#########################\n",
            "Loss of training data : 0.2367934593343377\n",
            "Loss of validation data : 0.2708305743598743\n",
            "\n",
            "#########################\n",
            "### Epoch 11\n",
            "#########################\n",
            "Loss of training data : 0.23255239668975766\n",
            "Loss of validation data : 0.2620651257820718\n",
            "\n",
            "#########################\n",
            "### Epoch 12\n",
            "#########################\n",
            "Loss of training data : 0.2293005378226395\n",
            "Loss of validation data : 0.25337098317675616\n",
            "\n",
            "#########################\n",
            "### Epoch 13\n",
            "#########################\n",
            "Loss of training data : 0.22660206576804748\n",
            "Loss of validation data : 0.24471736657228255\n",
            "\n",
            "#########################\n",
            "### Epoch 14\n",
            "#########################\n",
            "Loss of training data : 0.2247012617800662\n",
            "Loss of validation data : 0.2369128099326819\n",
            "\n",
            "#########################\n",
            "### Epoch 15\n",
            "#########################\n",
            "Loss of training data : 0.2230795254984151\n",
            "Loss of validation data : 0.2300161333171707\n",
            "\n",
            "#########################\n",
            "### Epoch 16\n",
            "#########################\n",
            "Loss of training data : 0.22197338498157543\n",
            "Loss of validation data : 0.22290110383707237\n",
            "\n",
            "#########################\n",
            "### Epoch 17\n",
            "#########################\n",
            "Loss of training data : 0.22093692442886442\n",
            "Loss of validation data : 0.21637552145449385\n",
            "\n",
            "#########################\n",
            "### Epoch 18\n",
            "#########################\n",
            "Loss of training data : 0.2200098453482897\n",
            "Loss of validation data : 0.21058037677821217\n",
            "\n",
            "#########################\n",
            "### Epoch 19\n",
            "#########################\n",
            "Loss of training data : 0.21912157181169128\n",
            "Loss of validation data : 0.20493066674784494\n",
            "\n",
            "#########################\n",
            "### Epoch 20\n",
            "#########################\n",
            "Loss of training data : 0.21803117741350517\n",
            "Loss of validation data : 0.1993329310351163\n",
            "\n"
          ],
          "name": "stdout"
        }
      ]
    },
    {
      "cell_type": "code",
      "metadata": {
        "colab": {
          "base_uri": "https://localhost:8080/",
          "height": 265
        },
        "id": "TwPE0XvXs9LH",
        "outputId": "53c834c0-3bff-4b68-c701-1038d1740b11"
      },
      "source": [
        "import matplotlib.pyplot as plt\n",
        "plt.plot(np.arange(1, dnn4.n_epochs+1), dnn4.loss_hist)\n",
        "plt.plot(np.arange(1, dnn4.n_epochs+1), dnn4.val_loss_hist)\n",
        "\n",
        "plt.show()"
      ],
      "execution_count": 24,
      "outputs": [
        {
          "output_type": "display_data",
          "data": {
            "image/png": "[encoded data removed]",
            "text/plain": [
              "<Figure size 432x288 with 1 Axes>"
            ]
          },
          "metadata": {
            "tags": [],
            "needs_background": "light"
          }
        }
      ]
    },
    {
      "cell_type": "code",
      "metadata": {
        "colab": {
          "base_uri": "https://localhost:8080/"
        },
        "id": "7Du4X4bOtEKY",
        "outputId": "7e78eb49-8e60-4a51-8f6d-6ef09b4e4193"
      },
      "source": [
        "y_pred4 = dnn4.predict(X_test)\n",
        "y_pred4"
      ],
      "execution_count": 25,
      "outputs": [
        {
          "output_type": "execute_result",
          "data": {
            "text/plain": [
              "array([7, 2, 1, ..., 4, 5, 6])"
            ]
          },
          "metadata": {
            "tags": []
          },
          "execution_count": 25
        }
      ]
    },
    {
      "cell_type": "code",
      "metadata": {
        "colab": {
          "base_uri": "https://localhost:8080/"
        },
        "id": "DQXcTMM_tIwI",
        "outputId": "5c6bdafa-d40f-4882-9fb0-659cf15c4b44"
      },
      "source": [
        "from sklearn.metrics import accuracy_score\n",
        "\n",
        "accuracY = accuracy_score(y_test, y_pred)\n",
        "accuracY"
      ],
      "execution_count": 26,
      "outputs": [
        {
          "output_type": "execute_result",
          "data": {
            "text/plain": [
              "0.6397"
            ]
          },
          "metadata": {
            "tags": []
          },
          "execution_count": 26
        }
      ]
    }
  ]
}