{
 "cells": [
  {
   "cell_type": "markdown",
   "metadata": {},
   "source": [
    "## [Problem 1] How many times to fold to surpass the height of Mt.Fuji?\n",
    "          "
   ]
  },
  {
   "cell_type": "code",
   "execution_count": 33,
   "metadata": {},
   "outputs": [
    {
     "name": "stdout",
     "output_type": "stream",
     "text": [
      "The minimum number of times to fold the paper required for the thickness to exceed the height of Mt. Fuji 26 times\n"
     ]
    }
   ],
   "source": [
    "thickness = 0.00008\n",
    "Fuji = 3776\n",
    "number_of_fold = 0\n",
    "while True:\n",
    "    if thickness > Fuji:\n",
    "        print(\"The minimum number of times to fold the paper required for the thickness to exceed the height of Mt. Fuji {} times\" .format(number_of_fold))\n",
    "        break\n",
    "    else:\n",
    "        thickness *= 2\n",
    "        number_of_fold += 1"
   ]
  },
  {
   "cell_type": "markdown",
   "metadata": {},
   "source": [
    "## [Problem 2] Function corresponding to arbitrary thickness"
   ]
  },
  {
   "cell_type": "code",
   "execution_count": 55,
   "metadata": {},
   "outputs": [
    {
     "name": "stdout",
     "output_type": "stream",
     "text": [
      "The number of times  34.863137\n"
     ]
    }
   ],
   "source": [
    "    import math\n",
    "    def arbitrary_tickness(distance):\n",
    "        thickness = 0.00008\n",
    "        times = math.log2(distance/thickness)\n",
    "        return times\n",
    "print (\"The number of times {: 2f}\".format(arbitrary_tickness(2500000)))\n",
    "    "
   ]
  },
  {
   "cell_type": "markdown",
   "metadata": {},
   "source": [
    "## [Problem 3] Required paper length"
   ]
  },
  {
   "cell_type": "code",
   "execution_count": 62,
   "metadata": {},
   "outputs": [],
   "source": [
    "def paper_legth(distance):\n",
    "    to = 0.00008\n",
    "    n = arbitrary_tickness(distance)\n",
    "    l= (to*math.pi)/6*(2**n+4)*(2**n - 1)\n",
    "    return f'the length of paper needed to reach out to {distance} m is {round(l):,}m'"
   ]
  },
  {
   "cell_type": "code",
   "execution_count": 66,
   "metadata": {},
   "outputs": [
    {
     "data": {
      "text/plain": [
       "'the length of the moon needed to reach out to 384400000 m is 967,108,929,679,232,729,088m'"
      ]
     },
     "execution_count": 66,
     "metadata": {},
     "output_type": "execute_result"
    }
   ],
   "source": [
    "# length of paper needed to reach the Moon\n",
    "paper_legth(384400000)"
   ]
  },
  {
   "cell_type": "code",
   "execution_count": 64,
   "metadata": {},
   "outputs": [
    {
     "data": {
      "text/plain": [
       "'the length of the moon needed to reach out to 3776 m is 93,319,549,630m'"
      ]
     },
     "execution_count": 64,
     "metadata": {},
     "output_type": "execute_result"
    }
   ],
   "source": [
    "#length of paper needed to reach the Mt. Fuji\n",
    "paper_legth(3776)"
   ]
  },
  {
   "cell_type": "code",
   "execution_count": 65,
   "metadata": {},
   "outputs": [
    {
     "data": {
      "text/plain": [
       "'the length of the moon needed to reach out to 2500000 m is 40,906,154,347,544,088m'"
      ]
     },
     "execution_count": 65,
     "metadata": {},
     "output_type": "execute_result"
    }
   ],
   "source": [
    "#length of paper needed to reach the the stars closest to the Sun\n",
    "paper_legth(2500000)"
   ]
  }
 ],
 "metadata": {
  "kernelspec": {
   "display_name": "Python 3",
   "language": "python",
   "name": "python3"
  },
  "language_info": {
   "codemirror_mode": {
    "name": "ipython",
    "version": 3
   },
   "file_extension": ".py",
   "mimetype": "text/x-python",
   "name": "python",
   "nbconvert_exporter": "python",
   "pygments_lexer": "ipython3",
   "version": "3.8.5"
  }
 },
 "nbformat": 4,
 "nbformat_minor": 4
}
