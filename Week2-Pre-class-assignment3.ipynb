{
 "cells": [
  {
   "cell_type": "markdown",
   "metadata": {},
   "source": [
    "## [Problem 1] Matrix product is calculated manually"
   ]
  },
  {
   "cell_type": "markdown",
   "metadata": {},
   "source": [
    "**QUESTION:**\n",
    "\n",
    "A=\\begin{bmatrix} -1 & 2 & 3 \\\\ Four & -Five & 6 \\\\ 7 & 8 & -9 \\end{bmatrix},\n",
    "B=\\begin{bmatrix} 0 & 2 & 1 \\\\ 0 & 2 & -8 \\\\ 2 & 9 & -1 \\end{bmatrix}\n",
    "\n",
    "\n",
    "**Answer in steps**\n",
    "\n",
    "**STEP 1:**\n",
    "\n",
    "\\begin{bmatrix}\n",
    "(-1*0)+(2*0)+(3*2)&(-1*2)+(2*2)+(3*9)&(-1*1)+(2*-8)+(3*-1)\\\\\n",
    "(4*0)+(-5*0)+(6*2)&(4*2)+(-5*2)+(6*9)&(4*1)+(-5*-8)+(6*-1)\\\\\n",
    "(7*0)+(8*0)+(-9*2)&(7*2)+(8*2)+(-9*9)&(7*1)+(8*-8)+(-9*-1)\\\\\n",
    "\\end{bmatrix},\n",
    "\n",
    "\n",
    "\n",
    "**STEP 2:**\n",
    "\n",
    "\\begin{bmatrix}\n",
    "(O+0+6)&(-2+4+27)&(-1-16-3)\\\\\n",
    "(O+0+12)&(8-10+54)&(4+40-6)\\\\\n",
    "(O+0-18)&(14+16-81)&(7-64+9)\\\\\n",
    "\\end{bmatrix},\n",
    "\n",
    "\n",
    "**FINAL ANSWER**\n",
    "\n",
    "\\begin{pmatrix} \n",
    "6&29&-20\\\\\n",
    "12&52&38\\\\\n",
    "-18&-51&-48\n",
    "\\end{pmatrix}\n"
   ]
  },
  {
   "cell_type": "markdown",
   "metadata": {},
   "source": [
    "## [Problem 2] Calculation by NumPy function"
   ]
  },
  {
   "cell_type": "code",
   "execution_count": 6,
   "metadata": {},
   "outputs": [
    {
     "name": "stdout",
     "output_type": "stream",
     "text": [
      "[[  6  29 -20]\n",
      " [ 12  52  38]\n",
      " [-18 -51 -48]]\n"
     ]
    }
   ],
   "source": [
    "import   numpy   as  np\n",
    "ndarray_A = np.array([[-1, 2, 3], [4, -5, 6], [7, 8, -9]])\n",
    "ndarray_B = np.array([[0, 2, 1], [0, 2, -8], [2, 9, -1]])\n",
    "ndarray_A_B = np.matmul(ndarray_A,ndarray_B)\n",
    "print(ndarray_A_B)"
   ]
  },
  {
   "cell_type": "markdown",
   "metadata": {},
   "source": [
    "## [Problem 3] Implementation of calculation of a certain element"
   ]
  },
  {
   "cell_type": "code",
   "execution_count": 28,
   "metadata": {},
   "outputs": [
    {
     "data": {
      "text/plain": [
       "52"
      ]
     },
     "execution_count": 28,
     "metadata": {},
     "output_type": "execute_result"
    }
   ],
   "source": [
    "Sum = (ndarray_A[1][0]*ndarray_B[0][1])+(ndarray_A[1][1]*ndarray_B[1][1])+(ndarray_A[1][2]*ndarray_B[2][1])\n",
    "Sum"
   ]
  },
  {
   "cell_type": "markdown",
   "metadata": {},
   "source": [
    "## [Problem 4] Creating a function that performs matrix multiplication"
   ]
  },
  {
   "cell_type": "code",
   "execution_count": 31,
   "metadata": {},
   "outputs": [
    {
     "name": "stdout",
     "output_type": "stream",
     "text": [
      "[[  6.  29. -20.]\n",
      " [ 12.  52.  38.]\n",
      " [-18. -51. -48.]]\n"
     ]
    }
   ],
   "source": [
    "def product_of_matrix(a, b):\n",
    "    ndarray_A_B = np.empty([3,3])\n",
    "    for row in range(a.shape[0]):\n",
    "        for column in range(b.shape[1]):\n",
    "            ndarray_A_B[row][column] = sum(a[row, :]*b[:, column])\n",
    "    return ndarray_A_B\n",
    "print(product_of_matrix(ndarray_A, ndarray_B))\n"
   ]
  },
  {
   "cell_type": "markdown",
   "metadata": {},
   "source": [
    "## [Problem 5] Judge the input whose calculation is not defined"
   ]
  },
  {
   "cell_type": "code",
   "execution_count": 37,
   "metadata": {},
   "outputs": [
    {
     "name": "stdout",
     "output_type": "stream",
     "text": [
      "Incorrect of matrix shape please make sure the row's shape of matrix A is equal to the column's shape of matrix B in multprication\n"
     ]
    }
   ],
   "source": [
    "d_ndarray = np.array([[-1, 2, 3],[4, -5, 6]])\n",
    "e_ndarray = np.array([[-9, 8, 7],[6, -5, 4]])\n",
    "if(d_ndarray.shape[0]==e_ndarray.shape[1]):\n",
    "    print(product_of_matrix(d_ndarray, e_ndarray))\n",
    "else:\n",
    "        print(\"Incorrect of matrix shape please make sure the row's shape of matrix A is equal to the column's shape of matrix B in multprication\")"
   ]
  },
  {
   "cell_type": "markdown",
   "metadata": {},
   "source": [
    "## [Problem 6] Transposition"
   ]
  },
  {
   "cell_type": "code",
   "execution_count": 36,
   "metadata": {},
   "outputs": [
    {
     "name": "stdout",
     "output_type": "stream",
     "text": [
      "[[ 33. -28.   9.]\n",
      " [-48.  41.  -6.]\n",
      " [  9.  -6.  45.]]\n"
     ]
    }
   ],
   "source": [
    "f = d_ndarray.T\n",
    "print(product_of_matrix(f, e_ndarray))"
   ]
  }
 ],
 "metadata": {
  "kernelspec": {
   "display_name": "Python 3",
   "language": "python",
   "name": "python3"
  },
  "language_info": {
   "codemirror_mode": {
    "name": "ipython",
    "version": 3
   },
   "file_extension": ".py",
   "mimetype": "text/x-python",
   "name": "python",
   "nbconvert_exporter": "python",
   "pygments_lexer": "ipython3",
   "version": "3.8.5"
  }
 },
 "nbformat": 4,
 "nbformat_minor": 4
}
