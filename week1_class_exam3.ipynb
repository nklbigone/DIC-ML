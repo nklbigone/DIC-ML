{
 "cells": [
  {
   "cell_type": "markdown",
   "metadata": {},
   "source": [
    "## [Problem] The day when Kuri Manju covers the solar system"
   ]
  },
  {
   "cell_type": "code",
   "execution_count": 23,
   "metadata": {},
   "outputs": [
    {
     "name": "stdout",
     "output_type": "stream",
     "text": [
      "The time it will take to cover the solar system: 5 Minutes\n"
     ]
    }
   ],
   "source": [
    "def solar_system(object_size):\n",
    "\n",
    "    solar_size=100000 #Let Assuming that the size of the sola system is 100,000 AU\n",
    "\n",
    "    time=0\n",
    "    while True:\n",
    "        if object_size>=solar_size:\n",
    "            break\n",
    "        else:\n",
    "            object_size*=2\n",
    "            time+=5\n",
    "    return print(\"The time it will take to cover the solar system: {} Minutes\".format(time))\n",
    "\n",
    "solar_system(50050)"
   ]
  },
  {
   "cell_type": "code",
   "execution_count": 30,
   "metadata": {},
   "outputs": [
    {
     "name": "stdout",
     "output_type": "stream",
     "text": [
      "55 Minutes\n"
     ]
    },
    {
     "data": {
      "image/png": "[encoded data removed]",
      "text/plain": [
       "<Figure size 432x288 with 1 Axes>"
      ]
     },
     "metadata": {
      "needs_background": "light"
     },
     "output_type": "display_data"
    }
   ],
   "source": [
    "import matplotlib.pyplot as plt\n",
    "def Tokyo_Dome(object_size):\n",
    "    tokyo_dome=57000000 #Size of the Tokyo Dome in Cubic meters\n",
    "    time=0\n",
    "    timing=[]\n",
    "    sizing=[]\n",
    "    while True:\n",
    "        if object_size>=tokyo_dome:\n",
    "            break\n",
    "        else:\n",
    "            object_size*=2\n",
    "            time+=5\n",
    "            timing.append(time)\n",
    "            sizing.append(object_size)\n",
    "    plt.plot(timing, sizing)\n",
    "    plt.xlabel('Minutes'); plt.ylabel('Object');\n",
    "    plt.title(\"Situation of Tokyo Dome\")\n",
    "    return print(\"{} Minutes\".format(time))\n",
    "Tokyo_Dome(50050)"
   ]
  }
 ],
 "metadata": {
  "kernelspec": {
   "display_name": "Python 3",
   "language": "python",
   "name": "python3"
  },
  "language_info": {
   "codemirror_mode": {
    "name": "ipython",
    "version": 3
   },
   "file_extension": ".py",
   "mimetype": "text/x-python",
   "name": "python",
   "nbconvert_exporter": "python",
   "pygments_lexer": "ipython3",
   "version": "3.8.5"
  }
 },
 "nbformat": 4,
 "nbformat_minor": 4
}
