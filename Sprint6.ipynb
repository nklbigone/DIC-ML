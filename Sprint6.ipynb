{
  "nbformat": 4,
  "nbformat_minor": 0,
  "metadata": {
    "colab": {
      "name": "Sprint6.ipynb",
      "provenance": [],
      "authorship_tag": "ABX9TyObajioRO61zHJcnU5zMbp5",
      "include_colab_link": true
    },
    "kernelspec": {
      "name": "python3",
      "display_name": "Python 3"
    },
    "language_info": {
      "name": "python"
    },
    "accelerator": "GPU"
  },
  "cells": [
    {
      "cell_type": "markdown",
      "metadata": {
        "id": "view-in-github",
        "colab_type": "text"
      },
      "source": [
        "<a href=\"https://colab.research.google.com/github/nklbigone/DIC-ML/blob/main/Sprint6.ipynb\" target=\"_parent\"><img src=\"https://colab.research.google.com/assets/colab-badge.svg\" alt=\"Open In Colab\"/></a>"
      ]
    },
    {
      "cell_type": "markdown",
      "metadata": {
        "id": "l_sH5bSlkePb"
      },
      "source": [
        "## **[Problem 1] Function for finding impureness**"
      ]
    },
    {
      "cell_type": "markdown",
      "metadata": {
        "id": "3b9Ioqx4k65F"
      },
      "source": [
        "Create a function to calculate the Gini impureness of a​ ​node. The Gini impure $ I (t) $ for the node $ t $ can be calculated by the following formula. The more mixed the classes, the higher the Gini purity.\n",
        "\n",
        "\n",
        "\\ [I (t) = 1- \\ sum_ {i = 1} ^ {K} P ^ 2 (C_i | t) = 1- \\ sum_ {i = 1} ^ {K} (\\ frac {N_ {t,, i}} {N_ {t, all}}) ^ {2} \\]\n",
        "$ t $: Node index\n",
        "\n",
        "\n",
        "$ i $: Class index\n",
        "\n",
        "\n",
        "$ K $: Number of classes\n",
        "\n",
        "\n",
        "$ C_i $: i-th class\n",
        "\n",
        "\n",
        "$ P (C_i | t) $: Percentage of $ C_i $ at the t-th node\n",
        "\n",
        "\n",
        "$ N_ {t, i} $: Number of samples belonging to the i-th class of the t-th node\n",
        "\n",
        "\n",
        "$ N_ {t, all} $: Total number of samples for the t-th node\n",
        "\n"
      ]
    },
    {
      "cell_type": "markdown",
      "metadata": {
        "id": "DL0Ovp8FlASb"
      },
      "source": [
        "## **[Problem 2] Function for finding information gain**"
      ]
    },
    {
      "cell_type": "markdown",
      "metadata": {
        "id": "LVGqMzXJlRnp"
      },
      "source": [
        "Next, create a function that calculates the information gain between the nodes. Call and use the function that calculates the Gini impure $ I (t) $ created in Problem 1. The information gain $ IG $ can be calculated by the following formula. The better the division, the greater the information gain.\n",
        "\n",
        "\n",
        "Since there are only two branches here, the branch destination is called the \"left node / right node\".\n",
        "\n",
        "\n",
        "\\ [IG (p) = I (p)-\\ frac {N_ {left, all}} {N_ {p, all}} I (left)-\\ frac {N_ {right, all}} {N_ {p, all}} I (right) \\]\n",
        "$ p $: Index indicating the parent node\n",
        "\n",
        "\n",
        "$ left $: Index indicating the node on the left\n",
        "\n",
        "\n",
        "$ right $: Index indicating the right node"
      ]
    },
    {
      "cell_type": "code",
      "metadata": {
        "id": "PX7CFANsl93a"
      },
      "source": [
        "import numpy as np\n",
        "import matplotlib.pyplot as plt\n",
        "import statistics\n",
        "import seaborn as sns\n",
        "class ScratchDecesionTreeClassifierDepth1():\n",
        "    \"\"\"\n",
        "    Depth 1 decision tree classifier scratch implementation\n",
        "    Parameters\n",
        "    ----------\n",
        "    verbose : bool\n",
        "      True to output the learning process\n",
        "    \"\"\"\n",
        "    def __init__(self, verbose=False):\n",
        "        # Record hyperparameters as attributes\n",
        "        self.verbose = verbose\n",
        "    def fit(self, X, y):\n",
        "        \"\"\"\n",
        "        Learn the decision tree classifier\n",
        "        Parameters\n",
        "        ----------\n",
        "        X : The following forms of ndarray, shape (n_samples, n_features)\n",
        "            Features of training data\n",
        "        y : The following form of ndarray, shape (n_samples,)\n",
        "            Correct answer value of training data\n",
        "        \"\"\"\n",
        "        number_of_features = X.shape[1]\n",
        "        self.best_gain = 0\n",
        "        for i in range(number_of_features):\n",
        "            candidate_threshold = np.unique(X[:,i])\n",
        "            \n",
        "            for threshold in candidate_threshold:\n",
        "                left = y[X[:,i] < threshold]\n",
        "                right = y[X[:,i] >= threshold]\n",
        "                \n",
        "                split_info_gain = self._information_gain(y,left,right)\n",
        "                \n",
        "                if split_info_gain > self.best_gain:\n",
        "                    self.left_label = statistics.mode(left)\n",
        "                    self.right_label = statistics.mode(right)\n",
        "                    self.threshold = threshold\n",
        "                    self.feature_chosen = i\n",
        "                    self.best_gain = split_info_gain\n",
        "                    \n",
        "                    if self.verbose:\n",
        "                        print(\"feature: {}, information_gain: {}\".format(self.feature_chosen,self.best_gain))\n",
        "        \n",
        "    def predict(self, X):\n",
        "        \"\"\"\n",
        "        Estimate the label using a decision tree classifier\n",
        "        \"\"\"\n",
        "        return np.where(X[:,self.feature_chosen] < self.threshold,self.left_label,self.right_label)\n",
        "    \n",
        "    def _gini(self,node):\n",
        "        \"\"\"\n",
        "        Function to calculate gini impurity of a node\n",
        "        Parameters\n",
        "        -------\n",
        "        node: nd_array shape(n_smaples,1)\n",
        "        Output\n",
        "        --------\n",
        "        Gini impurity of a node\n",
        "        \"\"\"\n",
        "        samples,counts = np.unique(node, return_counts=True)\n",
        "        result = 1\n",
        "        node_count = len(node)\n",
        "        for count in counts:\n",
        "            result -= (count / node_count)**2\n",
        "        return result\n",
        "    \n",
        "    def _information_gain(self, parent, left, right):\n",
        "        \"\"\"\n",
        "        Calculate information gain of a specific division using gini impurity\n",
        "        Parameters\n",
        "        ---------\n",
        "        parent, left,right: parent, left, right node of the split, ndarray shape (number_of_samples,1)\n",
        "        Output\n",
        "        ---------\n",
        "        Information gain of the division\n",
        "        \"\"\"\n",
        "        parent_gini = self._gini(parent)\n",
        "        left_gini = (self._gini(left) * len(left)) / len(parent)\n",
        "        right_gini = (self._gini(right) * len(right)) / len(parent)\n",
        "        return parent_gini - left_gini - right_gini\n"
      ],
      "execution_count": 2,
      "outputs": []
    },
    {
      "cell_type": "markdown",
      "metadata": {
        "id": "CPyseyrYmM5a"
      },
      "source": [
        "## **[Problem 3] Learning**"
      ]
    },
    {
      "cell_type": "code",
      "metadata": {
        "colab": {
          "base_uri": "https://localhost:8080/",
          "height": 282
        },
        "id": "WFaR4AWBmPra",
        "outputId": "93fceb28-ca0e-49e3-e290-7f8a06dea2a2"
      },
      "source": [
        "X = np.array([\n",
        "    [-0.44699 , -2.8073  ],[-1.4621  , -2.4586  ],\n",
        "    [ 0.10645 ,  1.9242  ],[-3.5944  , -4.0112  ],\n",
        "    [-0.9888  ,  4.5718  ],[-3.1625  , -3.9606  ],\n",
        "    [ 0.56421 ,  0.72888 ],[-0.60216 ,  8.4636  ],\n",
        "    [-0.61251 , -0.75345 ],[-0.73535 , -2.2718  ],\n",
        "    [-0.80647 , -2.2135  ],[ 0.86291 ,  2.3946  ],\n",
        "    [-3.1108  ,  0.15394 ],[-2.9362  ,  2.5462  ],\n",
        "    [-0.57242 , -2.9915  ],[ 1.4771  ,  3.4896  ],\n",
        "    [ 0.58619 ,  0.37158 ],[ 0.6017  ,  4.3439  ],\n",
        "    [-2.1086  ,  8.3428  ],[-4.1013  , -4.353   ],\n",
        "    [-1.9948  , -1.3927  ],[ 0.35084 , -0.031994],\n",
        "    [ 0.96765 ,  7.8929  ],[-1.281   , 15.6824  ],\n",
        "    [ 0.96765 , 10.083   ],[ 1.3763  ,  1.3347  ],\n",
        "    [-2.234   , -2.5323  ],[-2.9452  , -1.8219  ],\n",
        "    [ 0.14654 , -0.28733 ],[ 0.5461  ,  5.8245  ],\n",
        "    [-0.65259 ,  9.3444  ],[ 0.59912 ,  5.3524  ],\n",
        "    [ 0.50214 , -0.31818 ],[-3.0603  , -3.6461  ],\n",
        "    [-6.6797  ,  0.67661 ],[-2.353   , -0.72261 ],\n",
        "    [ 1.1319  ,  2.4023  ],[-0.12243 ,  9.0162  ],\n",
        "    [-2.5677  , 13.1779  ],[ 0.057313,  5.4681  ],\n",
        "])\n",
        "y = np.array([0, 0, 0, 0, 0, 0, 0, 0, 0, 0, 0, 0, 0, 0, 0, 0, 0, 0, 0, 0, 1, 1,\n",
        "       1, 1, 1, 1, 1, 1, 1, 1, 1, 1, 1, 1, 1, 1, 1, 1, 1, 1])\n",
        "sns.scatterplot(x=X[:,0],y=X[:,1],hue=y)"
      ],
      "execution_count": 3,
      "outputs": [
        {
          "output_type": "execute_result",
          "data": {
            "text/plain": [
              "<matplotlib.axes._subplots.AxesSubplot at 0x7ff717ce9d50>"
            ]
          },
          "metadata": {
            "tags": []
          },
          "execution_count": 3
        },
        {
          "output_type": "display_data",
          "data": {
            "image/png": "[encoded data removed]",
            "text/plain": [
              "<Figure size 432x288 with 1 Axes>"
            ]
          },
          "metadata": {
            "tags": [],
            "needs_background": "light"
          }
        }
      ]
    },
    {
      "cell_type": "code",
      "metadata": {
        "id": "dr5LTFkpmmkB"
      },
      "source": [
        "from sklearn.model_selection import train_test_split\n",
        "\n",
        "X_train, X_test, y_train, y_test = train_test_split(X,y,random_state=42,train_size =0.75)"
      ],
      "execution_count": 4,
      "outputs": []
    },
    {
      "cell_type": "markdown",
      "metadata": {
        "id": "I__MpvUqmx79"
      },
      "source": [
        "## **[Question 4] Presumption**"
      ]
    },
    {
      "cell_type": "code",
      "metadata": {
        "colab": {
          "base_uri": "https://localhost:8080/"
        },
        "id": "e1WHzUPzm0Ja",
        "outputId": "d4b493eb-cfa5-42d3-eee5-28480e0d2471"
      },
      "source": [
        "model = ScratchDecesionTreeClassifierDepth1(verbose=True)\n",
        "model.fit(X_train,y_train)\n",
        "y_pred = model.predict(X_test)\n",
        "print(y_pred)"
      ],
      "execution_count": 5,
      "outputs": [
        {
          "output_type": "stream",
          "text": [
            "feature: 0, information_gain: 0.01501915708812257\n",
            "feature: 0, information_gain: 0.020992063492063423\n",
            "feature: 0, information_gain: 0.03865258924082446\n",
            "feature: 0, information_gain: 0.06259259259259262\n",
            "feature: 0, information_gain: 0.09395002658160546\n",
            "feature: 1, information_gain: 0.12126262626262618\n",
            "[0 1 1 0 1 1 1 0 1 1]\n"
          ],
          "name": "stdout"
        }
      ]
    },
    {
      "cell_type": "markdown",
      "metadata": {
        "id": "lihRKQO2m_L1"
      },
      "source": [
        "## **[Problem 5] Learning and estimation**"
      ]
    },
    {
      "cell_type": "code",
      "metadata": {
        "id": "i3SJSa1MnB1b"
      },
      "source": [
        "from sklearn.metrics import accuracy_score, precision_score, recall_score, f1_score\n",
        "def evaluate(y_pred, y_test):\n",
        "  print(\"accuracy: {}\".format(accuracy_score(y_test,y_pred)))\n",
        "  print(\"precision: {}\".format(precision_score(y_test,y_pred)))\n",
        "  print(\"recall: {}\".format(recall_score(y_test,y_pred)))\n",
        "  print(\"f1: {}\".format(f1_score(y_test,y_pred)))"
      ],
      "execution_count": 9,
      "outputs": []
    },
    {
      "cell_type": "code",
      "metadata": {
        "colab": {
          "base_uri": "https://localhost:8080/"
        },
        "id": "l9gFO1RdnYDe",
        "outputId": "fbf5f1c8-f507-4fc0-e7a1-48499d6c6b18"
      },
      "source": [
        "evaluate(y_pred,y_test)"
      ],
      "execution_count": 10,
      "outputs": [
        {
          "output_type": "stream",
          "text": [
            "accuracy: 0.3\n",
            "precision: 0.2857142857142857\n",
            "recall: 0.5\n",
            "f1: 0.36363636363636365\n"
          ],
          "name": "stdout"
        }
      ]
    },
    {
      "cell_type": "code",
      "metadata": {
        "colab": {
          "base_uri": "https://localhost:8080/"
        },
        "id": "iArdnZjpnrkO",
        "outputId": "5abc1cf2-11a4-47f6-a373-15c42012260b"
      },
      "source": [
        "from sklearn.tree import DecisionTreeClassifier\n",
        "model_sk = DecisionTreeClassifier(max_depth=1)\n",
        "model_sk.fit(X_train,y_train)\n",
        "y_pred_sk = model_sk.predict(X_test)\n",
        "evaluate(y_pred_sk,y_test)"
      ],
      "execution_count": 11,
      "outputs": [
        {
          "output_type": "stream",
          "text": [
            "accuracy: 0.3\n",
            "precision: 0.2857142857142857\n",
            "recall: 0.5\n",
            "f1: 0.36363636363636365\n"
          ],
          "name": "stdout"
        }
      ]
    },
    {
      "cell_type": "markdown",
      "metadata": {
        "id": "wyiUKsDqn3DI"
      },
      "source": [
        "## **[Problem 6] Visualization of decision area**"
      ]
    },
    {
      "cell_type": "markdown",
      "metadata": {
        "id": "H4zAn1HLoCZj"
      },
      "source": [
        "if we take closer the result of scratch model and model imported from sklearn are the same, but the tree model was the one which was generated once branch at time."
      ]
    },
    {
      "cell_type": "code",
      "metadata": {
        "id": "9jnz0s0yoEAX"
      },
      "source": [
        "from matplotlib.colors import ListedColormap\n",
        "import matplotlib.patches as mpatches\n",
        "def decision_region(X, y, model, step=0.01, title='decision region', xlabel='xlabel', ylabel='ylabel', target_names=['1', '-1']):\n",
        "    scatter_color = ['red', 'blue']\n",
        "    contourf_color = ['pink', 'green']\n",
        "    n_class = 2\n",
        "    mesh_f0, mesh_f1  = np.meshgrid(np.arange(np.min(X[:,0])-0.5, np.max(X[:,0])+0.5, step), np.arange(np.min(X[:,1])-0.5, np.max(X[:,1])+0.5, step))\n",
        "    mesh = np.c_[np.ravel(mesh_f0),np.ravel(mesh_f1)]\n",
        "    y_pred = model.predict(mesh).reshape(mesh_f0.shape)\n",
        "    plt.title(title)\n",
        "    plt.xlabel(xlabel)\n",
        "    plt.ylabel(ylabel)\n",
        "    plt.contourf(mesh_f0, mesh_f1, y_pred, n_class-1, cmap=ListedColormap(contourf_color))\n",
        "    plt.contour(mesh_f0, mesh_f1, y_pred, n_class-1, colors='y', linewidths=3, alpha=0.5)\n",
        "    for i, target in enumerate(set(y)):\n",
        "        plt.scatter(X[y==target][:, 0], X[y==target][:, 1], s=80, color=scatter_color[i], label=target_names[i], marker='o')\n",
        "    patches = [mpatches.Patch(color=scatter_color[i], label=target_names[i]) for i in range(n_class)]\n",
        "    plt.legend(handles=patches)\n",
        "    plt.legend()"
      ],
      "execution_count": 12,
      "outputs": []
    },
    {
      "cell_type": "code",
      "metadata": {
        "colab": {
          "base_uri": "https://localhost:8080/",
          "height": 567
        },
        "id": "y8iL4bW8oNpl",
        "outputId": "9ddd7971-b70a-40bc-f134-c9f8e3cea0b4"
      },
      "source": [
        "fig, ax = plt.subplots(figsize=(16,9))\n",
        "decision_region(X_train,y_train,model)\n",
        "plt.scatter(X_test[:,0], X_test[:,1], s=80, label=\"Test\")\n",
        "plt.legend();"
      ],
      "execution_count": 13,
      "outputs": [
        {
          "output_type": "display_data",
          "data": {
            "image/png": "[encoded data removed]",
            "text/plain": [
              "<Figure size 1152x648 with 1 Axes>"
            ]
          },
          "metadata": {
            "tags": [],
            "needs_background": "light"
          }
        }
      ]
    },
    {
      "cell_type": "markdown",
      "metadata": {
        "id": "qXrglVJUoZLj"
      },
      "source": [
        "## **[Problem 7-8]**"
      ]
    },
    {
      "cell_type": "code",
      "metadata": {
        "id": "3sD_sAPmocf5"
      },
      "source": [
        "class DecisionTreeNode():\n",
        "    \"\"\"\n",
        "    Data structure to represent a node in a decision tree\n",
        "    \"\"\"\n",
        "    def __init__(self, verbose=False,max_depth=None):\n",
        "        self.verbose = verbose\n",
        "        self.max_depth = max_depth   \n",
        "    def _tree_contruct(self,X,y,depth=None):\n",
        "        \"\"\"\n",
        "        Determine the split and generate two node left and right\n",
        "        Parameters\n",
        "        ----------\n",
        "        X : The following forms of ndarray, shape (n_samples, n_features)\n",
        "            Features of training data\n",
        "        y : The following form of ndarray, shape (n_samples,)\n",
        "            Correct answer value of training data\n",
        "        \"\"\"\n",
        "        \n",
        "        if len(np.unique(y)) == 1 or depth == self.max_depth:\n",
        "            self.label = statistics.mode(y)\n",
        "            return\n",
        "            \n",
        "        number_of_features = X.shape[1]\n",
        "        self.best_gain = 0\n",
        "        for i in range(number_of_features):\n",
        "            candidate_threshold = np.unique(X[:,i])\n",
        "            \n",
        "            for threshold in candidate_threshold:\n",
        "                left = y[X[:,i] < threshold]\n",
        "                right = y[X[:,i] >= threshold]\n",
        "                \n",
        "                split_info_gain = self._information_gain(y,left,right)\n",
        "                \n",
        "                if split_info_gain > self.best_gain:\n",
        "                    self.threshold = threshold\n",
        "                    self.feature_chosen = i\n",
        "                    self.best_gain = split_info_gain\n",
        "                    \n",
        "                    if self.verbose:\n",
        "                        print(\"depth: {}, feature: {}, information_gain: {}\".format(depth,self.feature_chosen,self.best_gain))\n",
        "                        \n",
        "        self.label = None\n",
        "        self.left_node = DecisionTreeNode(verbose=self.verbose, max_depth=self.max_depth)\n",
        "        self.left_node._tree_contruct(X=X[X[:,self.feature_chosen] < self.threshold],y=y[X[:,self.feature_chosen] < self.threshold],depth=depth+1)\n",
        "        self.right_node = DecisionTreeNode(verbose=self.verbose,  max_depth=self.max_depth)\n",
        "        self.right_node._tree_contruct(X=X[X[:,self.feature_chosen] >= self.threshold],y=y[X[:,self.feature_chosen] >= self.threshold],depth=depth+1)\n",
        "        \n",
        "        \n",
        "    def predict(self, X):\n",
        "        \"\"\"\n",
        "        Estimate the label of a sample by traverse node in a decision tree classifier\n",
        "        \"\"\"\n",
        "        if self.label is None:\n",
        "            if X[self.feature_chosen] < self.threshold:\n",
        "                return self.left_node.predict(X)\n",
        "            else:\n",
        "                return self.right_node.predict(X)\n",
        "        else:\n",
        "            return self.label\n",
        "        \n",
        "    def _gini(self,node):\n",
        "        \"\"\"\n",
        "        Function to calculate gini impurity of a node\n",
        "        Parameters\n",
        "        -------\n",
        "        node: nd_array shape(n_smaples,1)\n",
        "        Output\n",
        "        --------\n",
        "        Gini impurity of a node\n",
        "        \"\"\"\n",
        "        samples,counts = np.unique(node, return_counts=True)\n",
        "        result = 1\n",
        "        node_count = len(node)\n",
        "        for count in counts:\n",
        "            result -= (count / node_count)**2\n",
        "        return result\n",
        "    \n",
        "    def _information_gain(self, parent, left, right):\n",
        "        \"\"\"\n",
        "        Calculate information gain of a specific division using gini impurity\n",
        "        Parameters\n",
        "        ---------\n",
        "        parent, left,right: parent, left, right node of the split, ndarray shape (number_of_samples,1)\n",
        "        Output\n",
        "        ---------\n",
        "        Information gain of the division\n",
        "        \"\"\"\n",
        "        parent_gini = self._gini(parent)\n",
        "        left_gini = (self._gini(left) * len(left)) / len(parent)\n",
        "        right_gini = (self._gini(right) * len(right)) / len(parent)\n",
        "        return parent_gini - left_gini - right_gini"
      ],
      "execution_count": 14,
      "outputs": []
    },
    {
      "cell_type": "code",
      "metadata": {
        "id": "ixyC7M-4o4eD"
      },
      "source": [
        "class ScratchDecesionTreeClassifier():\n",
        "    \"\"\"\n",
        "    Decision tree classifier scratch implementation\n",
        "    Parameters\n",
        "    ----------\n",
        "    verbose : bool\n",
        "      True to output the learning process\n",
        "    \"\"\"\n",
        "    def __init__(self, verbose=False,max_depth=None):\n",
        "        # Record hyperparameters as attributes\n",
        "        self.verbose = verbose\n",
        "        self.max_depth = max_depth\n",
        "    def fit(self, X, y):\n",
        "        \"\"\"\n",
        "        Learn the decision tree classifier\n",
        "        Parameters\n",
        "        ----------\n",
        "        X : The following forms of ndarray, shape (n_samples, n_features)\n",
        "            Features of training data\n",
        "        y : The following form of ndarray, shape (n_samples,)\n",
        "            Correct answer value of training data\n",
        "        \"\"\"\n",
        "        self.root = DecisionTreeNode(verbose=self.verbose,max_depth=self.max_depth)\n",
        "        self.root._tree_contruct(X,y,0)\n",
        "        \n",
        "        \n",
        "    def predict(self, X):\n",
        "        \"\"\"\n",
        "        Estimate the label using a decision tree classifier\n",
        "        \"\"\"\n",
        "        result = np.zeros(len(X))\n",
        "        for i,sample in enumerate(X):\n",
        "            result[i] = self.root.predict(sample)\n",
        "        return result\n",
        "        "
      ],
      "execution_count": 15,
      "outputs": []
    },
    {
      "cell_type": "code",
      "metadata": {
        "colab": {
          "base_uri": "https://localhost:8080/"
        },
        "id": "p8_Il2Ito_lr",
        "outputId": "4f901827-00f3-4657-82a2-c05d0ebe3584"
      },
      "source": [
        "model = ScratchDecesionTreeClassifier(verbose=True,max_depth=2)\n",
        "model.fit(X_train,y_train)\n",
        "y_pred = model.predict(X_test)\n",
        "print(y_pred)"
      ],
      "execution_count": 16,
      "outputs": [
        {
          "output_type": "stream",
          "text": [
            "depth: 0, feature: 0, information_gain: 0.01501915708812257\n",
            "depth: 0, feature: 0, information_gain: 0.020992063492063423\n",
            "depth: 0, feature: 0, information_gain: 0.03865258924082446\n",
            "depth: 0, feature: 0, information_gain: 0.06259259259259262\n",
            "depth: 0, feature: 0, information_gain: 0.09395002658160546\n",
            "depth: 0, feature: 1, information_gain: 0.12126262626262618\n",
            "depth: 1, feature: 0, information_gain: 0.004464285714285643\n",
            "depth: 1, feature: 0, information_gain: 0.01041666666666674\n",
            "depth: 1, feature: 0, information_gain: 0.052083333333333315\n",
            "depth: 1, feature: 0, information_gain: 0.009641873278236957\n",
            "depth: 1, feature: 0, information_gain: 0.011157024793388426\n",
            "depth: 1, feature: 0, information_gain: 0.037190082644628114\n",
            "depth: 1, feature: 0, information_gain: 0.04499540863177226\n",
            "[0. 1. 1. 0. 1. 1. 1. 0. 1. 1.]\n"
          ],
          "name": "stdout"
        }
      ]
    },
    {
      "cell_type": "code",
      "metadata": {
        "colab": {
          "base_uri": "https://localhost:8080/"
        },
        "id": "sezwZkCLpF_e",
        "outputId": "0de0f36e-41c8-4d52-fd3e-6895f164a092"
      },
      "source": [
        "evaluate(y_pred,y_test)"
      ],
      "execution_count": 17,
      "outputs": [
        {
          "output_type": "stream",
          "text": [
            "accuracy: 0.3\n",
            "precision: 0.2857142857142857\n",
            "recall: 0.5\n",
            "f1: 0.36363636363636365\n"
          ],
          "name": "stdout"
        }
      ]
    },
    {
      "cell_type": "code",
      "metadata": {
        "colab": {
          "base_uri": "https://localhost:8080/",
          "height": 567
        },
        "id": "sFFSC7BDpLwr",
        "outputId": "9ba404fd-d580-46ea-e3b0-47d282011662"
      },
      "source": [
        "fig, ax = plt.subplots(figsize=(16,9))\n",
        "decision_region(X_train,y_train,model)\n",
        "plt.scatter(X_test[:,0], X_test[:,1], s=80, label=\"Test\")\n",
        "plt.legend();"
      ],
      "execution_count": 18,
      "outputs": [
        {
          "output_type": "display_data",
          "data": {
            "image/png": "[encoded data removed]",
            "text/plain": [
              "<Figure size 1152x648 with 1 Axes>"
            ]
          },
          "metadata": {
            "tags": [],
            "needs_background": "light"
          }
        }
      ]
    },
    {
      "cell_type": "code",
      "metadata": {
        "colab": {
          "base_uri": "https://localhost:8080/"
        },
        "id": "NaizM3c8pSwF",
        "outputId": "f8407467-7990-4177-b3d2-82702441dc4a"
      },
      "source": [
        "model = ScratchDecesionTreeClassifier(verbose=True)\n",
        "model.fit(X_train,y_train)\n",
        "y_pred = model.predict(X_test)\n",
        "print(y_pred)"
      ],
      "execution_count": 19,
      "outputs": [
        {
          "output_type": "stream",
          "text": [
            "depth: 0, feature: 0, information_gain: 0.01501915708812257\n",
            "depth: 0, feature: 0, information_gain: 0.020992063492063423\n",
            "depth: 0, feature: 0, information_gain: 0.03865258924082446\n",
            "depth: 0, feature: 0, information_gain: 0.06259259259259262\n",
            "depth: 0, feature: 0, information_gain: 0.09395002658160546\n",
            "depth: 0, feature: 1, information_gain: 0.12126262626262618\n",
            "depth: 1, feature: 0, information_gain: 0.004464285714285643\n",
            "depth: 1, feature: 0, information_gain: 0.01041666666666674\n",
            "depth: 1, feature: 0, information_gain: 0.052083333333333315\n",
            "depth: 2, feature: 0, information_gain: 0.11111111111111116\n",
            "depth: 2, feature: 0, information_gain: 0.4444444444444445\n",
            "depth: 1, feature: 0, information_gain: 0.009641873278236957\n",
            "depth: 1, feature: 0, information_gain: 0.011157024793388426\n",
            "depth: 1, feature: 0, information_gain: 0.037190082644628114\n",
            "depth: 1, feature: 0, information_gain: 0.04499540863177226\n",
            "depth: 2, feature: 0, information_gain: 0.017792302106027502\n",
            "depth: 2, feature: 0, information_gain: 0.030864197530864113\n",
            "depth: 2, feature: 0, information_gain: 0.030864197530864154\n",
            "depth: 2, feature: 0, information_gain: 0.09336419753086417\n",
            "depth: 3, feature: 0, information_gain: 0.01302083333333337\n",
            "depth: 3, feature: 0, information_gain: 0.02552083333333338\n",
            "depth: 3, feature: 0, information_gain: 0.08877840909090906\n",
            "depth: 4, feature: 0, information_gain: 0.04132231404958686\n",
            "depth: 4, feature: 0, information_gain: 0.0478158205430933\n",
            "depth: 4, feature: 0, information_gain: 0.09976387249114527\n",
            "depth: 4, feature: 0, information_gain: 0.22314049586776868\n",
            "depth: 5, feature: 0, information_gain: 0.01785714285714285\n",
            "depth: 5, feature: 0, information_gain: 0.04166666666666674\n",
            "depth: 5, feature: 0, information_gain: 0.07500000000000001\n",
            "depth: 6, feature: 0, information_gain: 0.07999999999999996\n",
            "depth: 6, feature: 0, information_gain: 0.18\n",
            "depth: 6, feature: 1, information_gain: 0.21333333333333326\n",
            "depth: 7, feature: 0, information_gain: 0.11111111111111116\n",
            "depth: 7, feature: 1, information_gain: 0.4444444444444445\n",
            "[0. 1. 1. 1. 1. 1. 0. 1. 0. 1.]\n"
          ],
          "name": "stdout"
        }
      ]
    },
    {
      "cell_type": "code",
      "metadata": {
        "colab": {
          "base_uri": "https://localhost:8080/"
        },
        "id": "g-1NH1EApbOw",
        "outputId": "36b0e1a2-f955-4805-e660-95f44681b3a1"
      },
      "source": [
        "evaluate(y_pred,y_test)"
      ],
      "execution_count": 20,
      "outputs": [
        {
          "output_type": "stream",
          "text": [
            "accuracy: 0.3\n",
            "precision: 0.2857142857142857\n",
            "recall: 0.5\n",
            "f1: 0.36363636363636365\n"
          ],
          "name": "stdout"
        }
      ]
    },
    {
      "cell_type": "code",
      "metadata": {
        "colab": {
          "base_uri": "https://localhost:8080/",
          "height": 567
        },
        "id": "YyUpwpWlpgk1",
        "outputId": "35b5d851-97ec-4b67-8f2a-80644f6dd947"
      },
      "source": [
        "fig, ax = plt.subplots(figsize=(16,9))\n",
        "decision_region(X_train,y_train,model)\n",
        "plt.scatter(X_test[:,0], X_test[:,1], s=80, label=\"Test\")\n",
        "plt.legend();"
      ],
      "execution_count": 21,
      "outputs": [
        {
          "output_type": "display_data",
          "data": {
            "image/png": "[encoded data removed]",
            "text/plain": [
              "<Figure size 1152x648 with 1 Axes>"
            ]
          },
          "metadata": {
            "tags": [],
            "needs_background": "light"
          }
        }
      ]
    }
  ]
}