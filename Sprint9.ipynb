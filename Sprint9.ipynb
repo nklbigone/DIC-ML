{
  "nbformat": 4,
  "nbformat_minor": 0,
  "metadata": {
    "colab": {
      "name": "Sprint9.ipynb",
      "provenance": [],
      "collapsed_sections": [],
      "authorship_tag": "ABX9TyN9Segvt8JL1PnTvhbtC/WO",
      "include_colab_link": true
    },
    "kernelspec": {
      "name": "python3",
      "display_name": "Python 3"
    },
    "language_info": {
      "name": "python"
    },
    "accelerator": "GPU"
  },
  "cells": [
    {
      "cell_type": "markdown",
      "metadata": {
        "id": "view-in-github",
        "colab_type": "text"
      },
      "source": [
        "<a href=\"https://colab.research.google.com/github/nklbigone/DIC-ML/blob/main/Sprint9.ipynb\" target=\"_parent\"><img src=\"https://colab.research.google.com/assets/colab-badge.svg\" alt=\"Open In Colab\"/></a>"
      ]
    },
    {
      "cell_type": "code",
      "metadata": {
        "id": "82lW5ckLiqH4"
      },
      "source": [
        "# importing dependencies\n",
        "import matplotlib.pyplot as plt\n",
        "from keras.datasets import mnist\n",
        "import numpy as np\n",
        "from sklearn.preprocessing import OneHotEncoder\n",
        "from sklearn.model_selection import train_test_split\n",
        "from sklearn.metrics import accuracy_score"
      ],
      "execution_count": 10,
      "outputs": []
    },
    {
      "cell_type": "code",
      "metadata": {
        "id": "7nXic83YjBOG"
      },
      "source": [
        "# get subsets\n",
        "(X_train, y_train), (X_test, y_test) = mnist.load_data()"
      ],
      "execution_count": 11,
      "outputs": []
    },
    {
      "cell_type": "code",
      "metadata": {
        "colab": {
          "base_uri": "https://localhost:8080/"
        },
        "id": "udzcE6_XjU9Q",
        "outputId": "92784a99-aefb-41b4-db64-09e031c187e5"
      },
      "source": [
        "# checking the subsets\n",
        "print(X_train.shape) \n",
        "print(X_test.shape)"
      ],
      "execution_count": 12,
      "outputs": [
        {
          "output_type": "stream",
          "text": [
            "(60000, 28, 28)\n",
            "(10000, 28, 28)\n"
          ],
          "name": "stdout"
        }
      ]
    },
    {
      "cell_type": "code",
      "metadata": {
        "id": "JQJ-f16qjZXy"
      },
      "source": [
        "# flattening the subsets\n",
        "X_train = X_train.reshape(-1,784)\n",
        "X_test = X_test.reshape(-1,784)"
      ],
      "execution_count": 13,
      "outputs": []
    },
    {
      "cell_type": "code",
      "metadata": {
        "colab": {
          "base_uri": "https://localhost:8080/",
          "height": 281
        },
        "id": "xkUldasJjelH",
        "outputId": "f76109ef-bde3-4b4e-dd22-69ee48653d41"
      },
      "source": [
        "# visualize the data\n",
        "%matplotlib inline\n",
        "index = 0\n",
        "image = X_train[index].reshape(28,28)\n",
        "plt.imshow(image, 'gray', vmin = 0, vmax = 255)\n",
        "plt.title('label : {}'.format(y_train[index]))\n",
        "plt.show()"
      ],
      "execution_count": 14,
      "outputs": [
        {
          "output_type": "display_data",
          "data": {
            "image/png": "[encoded data removed]",
            "text/plain": [
              "<Figure size 432x288 with 1 Axes>"
            ]
          },
          "metadata": {
            "tags": [],
            "needs_background": "light"
          }
        }
      ]
    },
    {
      "cell_type": "code",
      "metadata": {
        "colab": {
          "base_uri": "https://localhost:8080/"
        },
        "id": "M00zYolFjqiG",
        "outputId": "085a542e-b595-4dbe-d447-28b29888c24f"
      },
      "source": [
        "# pre processing\n",
        "X_train = X_train.astype(np.float)\n",
        "X_test = X_test.astype(np.float)\n",
        "X_train /= 255\n",
        "X_test /= 255\n",
        "print(X_train.max()) # 1.0\n",
        "print(X_train.min())"
      ],
      "execution_count": 15,
      "outputs": [
        {
          "output_type": "stream",
          "text": [
            "1.0\n",
            "0.0\n"
          ],
          "name": "stdout"
        }
      ]
    },
    {
      "cell_type": "code",
      "metadata": {
        "id": "DZWJwlgCjyif"
      },
      "source": [
        "# splitting our subsets into train and validation subsets\n",
        "X_train, X_val, y_train, y_val = train_test_split(X_train, y_train, test_size=0.2)"
      ],
      "execution_count": 16,
      "outputs": []
    },
    {
      "cell_type": "code",
      "metadata": {
        "colab": {
          "base_uri": "https://localhost:8080/"
        },
        "id": "VlOxtsBxaH_z",
        "outputId": "a9e558d1-1e48-426d-c60b-44ce009c25c3"
      },
      "source": [
        "enc = OneHotEncoder(handle_unknown='ignore', sparse=False)\n",
        "y_train_one_hot = enc.fit_transform(y_train[:, np.newaxis])\n",
        "y_test_one_hot = enc.transform(y_val[:, np.newaxis])\n",
        "print(y_train.shape) # (60000,)\n",
        "print(y_train_one_hot.shape) # (60000, 10)\n",
        "print(y_train_one_hot.dtype) # float64"
      ],
      "execution_count": 17,
      "outputs": [
        {
          "output_type": "stream",
          "text": [
            "(48000,)\n",
            "(48000, 10)\n",
            "float64\n"
          ],
          "name": "stdout"
        }
      ]
    },
    {
      "cell_type": "code",
      "metadata": {
        "colab": {
          "base_uri": "https://localhost:8080/"
        },
        "id": "wOMDmR1Oa7-_",
        "outputId": "d213652d-87fb-4b30-fff4-1343fd197103"
      },
      "source": [
        "print(X_train.shape) # (48000, 784)\n",
        "print(X_val.shape) # (12000, 784)"
      ],
      "execution_count": 18,
      "outputs": [
        {
          "output_type": "stream",
          "text": [
            "(48000, 784)\n",
            "(12000, 784)\n"
          ],
          "name": "stdout"
        }
      ]
    },
    {
      "cell_type": "code",
      "metadata": {
        "id": "lgctLOwkbBVN"
      },
      "source": [
        "# mini batch\n",
        "class GetMiniBatch:\n",
        "    \"\"\"\n",
        "Iterator to get a mini-batch\n",
        "    Parameters\n",
        "    ----------\n",
        "    X : The following forms of ndarray, shape (n_samples, n_features)\n",
        "      Training data\n",
        "    y : The following form of ndarray, shape (n_samples, 1)\n",
        "      Correct answer value\n",
        "    batch_size : int\n",
        "      Batch size\n",
        "    seed : int\n",
        "      NumPy random number seed\n",
        "    \"\"\"\n",
        "    def __init__(self, X, y, batch_size = 20, seed=0):\n",
        "        self.batch_size = batch_size\n",
        "        np.random.seed(seed)\n",
        "        shuffle_index = np.random.permutation(np.arange(X.shape[0]))\n",
        "        self._X = X[shuffle_index]\n",
        "        self._y = y[shuffle_index]\n",
        "        self._stop = np.ceil(X.shape[0]/self.batch_size).astype(np.int)\n",
        "    def __len__(self):\n",
        "        return self._stop\n",
        "    def __getitem__(self,item):\n",
        "        p0 = item*self.batch_size\n",
        "        p1 = item*self.batch_size + self.batch_size\n",
        "        return self._X[p0:p1], self._y[p0:p1]        \n",
        "    def __iter__(self):\n",
        "        self._counter = 0\n",
        "        return self\n",
        "    def __next__(self):\n",
        "        if self._counter >= self._stop:\n",
        "            raise StopIteration()\n",
        "        p0 = self._counter*self.batch_size\n",
        "        p1 = self._counter*self.batch_size + self.batch_size\n",
        "        self._counter += 1\n",
        "        return self._X[p0:p1], self._y[p0:p1]"
      ],
      "execution_count": 19,
      "outputs": []
    },
    {
      "cell_type": "code",
      "metadata": {
        "id": "1_FyiJ2rbl6U"
      },
      "source": [
        "# calculating the batch\n",
        "get_mini_batch = GetMiniBatch(X_train, y_train, batch_size=20)"
      ],
      "execution_count": 20,
      "outputs": []
    },
    {
      "cell_type": "code",
      "metadata": {
        "colab": {
          "base_uri": "https://localhost:8080/"
        },
        "id": "gXlMQY6qbqNb",
        "outputId": "bfe83bb8-aaa8-4eb9-8162-77938b138c87"
      },
      "source": [
        "print(len(get_mini_batch))"
      ],
      "execution_count": 21,
      "outputs": [
        {
          "output_type": "stream",
          "text": [
            "2400\n"
          ],
          "name": "stdout"
        }
      ]
    },
    {
      "cell_type": "code",
      "metadata": {
        "id": "RCVtUKJ9buUN"
      },
      "source": [
        "n_sample,n_features = X_train.shape\n",
        "n_nodes1 = 400\n",
        "sigma = 0.01 # Standard deviation of Gaussian distribution\n",
        "W1 = sigma * np.random.randn(n_features, n_nodes1)"
      ],
      "execution_count": 22,
      "outputs": []
    },
    {
      "cell_type": "code",
      "metadata": {
        "colab": {
          "base_uri": "https://localhost:8080/"
        },
        "id": "OKh5CqJSb2b_",
        "outputId": "a3697a22-687a-49ff-acbe-1089fd6f37bd"
      },
      "source": [
        "print(n_nodes1)"
      ],
      "execution_count": 23,
      "outputs": [
        {
          "output_type": "stream",
          "text": [
            "400\n"
          ],
          "name": "stdout"
        }
      ]
    },
    {
      "cell_type": "code",
      "metadata": {
        "id": "e-Eh6uw6cEko"
      },
      "source": [
        "# neural network from scratch\n",
        "class ScratchSimpleNeuralNetrowkClassifier():\n",
        "\n",
        "    def __init__(self, verbose = True, n_features=784,n_nodes1=400,n_nodes2=200, batch_size=20,n_output=10, n_epoch=10, lr=0.01, sigma=0.02):\n",
        "        self.verbose = verbose\n",
        "        self.n_features = n_features\n",
        "        self.n_nodes1 = n_nodes1\n",
        "        self.n_nodes2 = n_nodes2\n",
        "        self.batch_size = batch_size\n",
        "        self.n_output = n_output\n",
        "        self.n_epoch = 30\n",
        "        self.lr = lr\n",
        "        self.sigma = sigma\n",
        "        self.W1 = None\n",
        "        self.b1 = None\n",
        "        self.W2 = None\n",
        "        self.b2 = None\n",
        "        self.W3 = None\n",
        "        self.b3 = None\n",
        "        self.loss = []\n",
        "        self.val_loss = []\n",
        "        pass\n",
        "    \n",
        "    def fit(self, X, y, X_val=None, y_val=None):\n",
        "      self.create_init_w_b()\n",
        "      for epoch in range(self.n_epoch):\n",
        "          get_mini_batch = GetMiniBatch(X, y, self.batch_size)\n",
        "          for mini_X_train, mini_y_train in get_mini_batch: \n",
        "            # forward propagation\n",
        "            self.forward_propagation(mini_X_train)\n",
        "            self.back_propagation(mini_X_train, mini_y_train)\n",
        "          self.forward_propagation(X)\n",
        "          self.loss.append(self.cross_entropy_error(y, self.layer_3))\n",
        "          if X_val is not None:\n",
        "              self.forward_propagation(X_val)\n",
        "              self.val_loss.append(self.cross_entropy_error(y_val, self.layer_3))\n",
        "\n",
        "      if self.verbose:\n",
        "          # When verbose is set to True, the learning process etc. is output.\n",
        "          print(self.loss)\n",
        "      pass\n",
        "    \n",
        "    def create_init_w_b(self):\n",
        "      self.W1 = self.sigma * np.random.randn(self.n_features, self.n_nodes1)\n",
        "      self.b1 = self.sigma * np.random.randn(1, self.n_nodes1)\n",
        "      self.W2 = self.sigma * np.random.randn(self.n_nodes1, self.n_nodes2)\n",
        "      self.b2 = self.sigma * np.random.randn(1, self.n_nodes2)\n",
        "      self.W3 = self.sigma * np.random.randn(self.n_nodes2, self.n_output)\n",
        "      self.b3 = self.sigma * np.random.randn(1, self.n_output)\n",
        "    \n",
        "    def activation_function(self,X, layer):\n",
        "      if layer == \"hidden\" or layer == \"first\":\n",
        "        act_f = np.tanh(X)\n",
        "        return act_f\n",
        "      else: \n",
        "        act_f = np.exp(X) / np.sum(np.exp(X), axis=1).reshape(-1, 1)\n",
        "        return act_f\n",
        "\n",
        "    def cross_entropy_error(self, y, Z):\n",
        "      return -np.sum([y[i]*np.log2(Z[i]) for i in range(len(y))])\n",
        "\n",
        "    def forward_propagation(self,X):\n",
        "        self.layer_1_pre = np.matmul(X,self.W1) + self.b1\n",
        "        self.layer_1 = self.activation_function(self.layer_1_pre, \"first\")\n",
        "\n",
        "        self.layer_2_pre = np.matmul(self.layer_1,self.W2) + self.b2\n",
        "        self.layer_2 = self.activation_function(self.layer_2_pre, \"hidden\")\n",
        "\n",
        "        self.layer_3_pre = np.matmul(self.layer_2,self.W3) + self.b3\n",
        "        self.layer_3 = self.activation_function(self.layer_3_pre, \"output\")\n",
        "        \n",
        "    def back_propagation(self, X, y):\n",
        "      dA3 = self.layer_3 - y\n",
        "      dB3 = np.sum(dA3, axis=0)\n",
        "      dW3 = self.layer_2.T @ dA3\n",
        "      dZ2 = dA3 @ self.W3.T\n",
        "      dA2 = dZ2 * (1 - self.activation_function(self.layer_2_pre, \"hidden\")**2)\n",
        "      dB2 = np.sum(dA2, axis=0)\n",
        "      dW2 = self.layer_1.T @ dA2\n",
        "      dZ1 = dA2 @ self.W2.T\n",
        "      dA1 = dZ1 * (1 - self.activation_function(self.layer_1_pre, \"first\")**2)\n",
        "      dB1 = np.sum(dA1, axis=0)\n",
        "      dW1 = X.T @ dA1\n",
        "      self.W3 -= self.lr * dW3\n",
        "      self.b3 -= self.lr * dB3\n",
        "      self.W2 -= self.lr * dW2\n",
        "      self.b2 -= self.lr * dB2\n",
        "      self.W1 -= self.lr * dW1\n",
        "      self.b1 -= self.lr * dB1\n",
        "\n",
        "    def predict(self, X):\n",
        "      self.forward_propagation(X)\n",
        "      return np.argmax(self.layer_3, axis=1)"
      ],
      "execution_count": 24,
      "outputs": []
    },
    {
      "cell_type": "markdown",
      "metadata": {
        "id": "qm175bU0dDTf"
      },
      "source": [
        "## **Problem 6】Learning and estimation**"
      ]
    },
    {
      "cell_type": "code",
      "metadata": {
        "id": "2LNPSHnbdHQx",
        "colab": {
          "base_uri": "https://localhost:8080/"
        },
        "outputId": "52d4cc7d-c239-4c21-843d-b4e36953606c"
      },
      "source": [
        "model = ScratchSimpleNeuralNetrowkClassifier()\n",
        "model.fit(X_train,y_train_one_hot,X_val,y_test_one_hot)"
      ],
      "execution_count": 25,
      "outputs": [
        {
          "output_type": "stream",
          "text": [
            "[12661.842815928183, 7922.531307362949, 5744.383714285657, 4341.554321105641, 3196.4803516251395, 2235.690756928634, 1907.7714657250297, 1324.9732973869593, 766.2658607653404, 540.449795101552, 404.8379476947018, 265.0944665492784, 193.26195006427756, 108.64158026520785, 80.11532133957822, 63.77590274330276, 53.64024278368271, 46.513475300701444, 41.20370695308109, 37.07390608905643, 33.75091499920496, 31.004767686645103, 28.687008515522965, 26.697609194189003, 24.96664266746068, 23.44366850367071, 22.091303575851878, 20.881171194775618, 19.791264454714526, 18.804183838784866]\n"
          ],
          "name": "stdout"
        }
      ]
    },
    {
      "cell_type": "code",
      "metadata": {
        "id": "VPI_Leowx75j"
      },
      "source": [
        "y_pred = model.predict(X_val)"
      ],
      "execution_count": 26,
      "outputs": []
    },
    {
      "cell_type": "code",
      "metadata": {
        "colab": {
          "base_uri": "https://localhost:8080/"
        },
        "id": "y0AkeJ9ayDmj",
        "outputId": "02b58ce0-8f08-4f9b-983b-09862f2d71b5"
      },
      "source": [
        "accuracy_score(y_val, y_pred)"
      ],
      "execution_count": 27,
      "outputs": [
        {
          "output_type": "execute_result",
          "data": {
            "text/plain": [
              "0.9813333333333333"
            ]
          },
          "metadata": {
            "tags": []
          },
          "execution_count": 27
        }
      ]
    },
    {
      "cell_type": "code",
      "metadata": {
        "colab": {
          "base_uri": "https://localhost:8080/",
          "height": 500
        },
        "id": "ggphG3WSyKmP",
        "outputId": "3a77c1c2-8854-4f51-9f68-166bdae19417"
      },
      "source": [
        "fig = plt.subplots(figsize=(12,8))\n",
        "plt.rcParams[\"font.size\"] = 20\n",
        "\n",
        "plt.plot(model.loss,'rs--', label=\"train\")\n",
        "plt.plot(model.val_loss,'bo--', label= \"val\")\n",
        "plt.legend()"
      ],
      "execution_count": 28,
      "outputs": [
        {
          "output_type": "execute_result",
          "data": {
            "text/plain": [
              "<matplotlib.legend.Legend at 0x7f34cbf29ad0>"
            ]
          },
          "metadata": {
            "tags": []
          },
          "execution_count": 28
        },
        {
          "output_type": "display_data",
          "data": {
            "image/png": "[encoded data removed]",
            "text/plain": [
              "<Figure size 864x576 with 1 Axes>"
            ]
          },
          "metadata": {
            "tags": [],
            "needs_background": "light"
          }
        }
      ]
    },
    {
      "cell_type": "markdown",
      "metadata": {
        "id": "zGUW8U6RywAN"
      },
      "source": [
        "## **[Problem 8] (Advance assignment) Confirmation of misclassification**"
      ]
    },
    {
      "cell_type": "code",
      "metadata": {
        "colab": {
          "base_uri": "https://localhost:8080/",
          "height": 405
        },
        "id": "VqAmZDuMyy5F",
        "outputId": "f444099d-b28e-4fa8-a60d-68076506acd5"
      },
      "source": [
        "num = 36 # How many to display\n",
        "\n",
        "true_false = y_pred==y_val\n",
        "false_list = np.where(true_false==False)[0].astype(np.int)\n",
        "if false_list.shape[0] < num:\n",
        "    num = false_list.shape[0]\n",
        "fig = plt.figure(figsize=(6, 6))\n",
        "fig.subplots_adjust(left=0, right=0.8,  bottom=0, top=0.8, hspace=1, wspace=0.5)\n",
        "for i in range(num):\n",
        "    ax = fig.add_subplot(6, 6, i + 1, xticks=[], yticks=[])\n",
        "    ax.set_title(\"{} / {}\".format(y_pred[false_list[i]],y_val[false_list[i]]))\n",
        "    ax.imshow(X_val.reshape(-1,28,28)[false_list[i]], cmap='gray')"
      ],
      "execution_count": 29,
      "outputs": [
        {
          "output_type": "display_data",
          "data": {
            "image/png": "[encoded data removed]",
            "text/plain": [
              "<Figure size 432x432 with 36 Axes>"
            ]
          },
          "metadata": {
            "tags": []
          }
        }
      ]
    }
  ]
}